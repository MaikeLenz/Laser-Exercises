{
 "cells": [
  {
   "cell_type": "markdown",
   "id": "74b21b47",
   "metadata": {},
   "source": [
    "# Lasers Coding Exercise #1"
   ]
  },
  {
   "cell_type": "markdown",
   "id": "85ee591b",
   "metadata": {},
   "source": [
    "## 1.1 Gaussian vs Lorentzian\n",
    "In this part of the exercise you will compare Gaussian and Lorentzian functions which crop up a frequently in laser physics e.g. as laser line profiles (spectral distributions), laser beam profiles (spatial distributions), and laser pulse shapes (temporal distributions).\n",
    "\n",
    "Here we consider line shapes which relates to the line broadening part of the course.\n"
   ]
  },
  {
   "cell_type": "markdown",
   "id": "6157cd10",
   "metadata": {},
   "source": [
    "**a)**\tWrite a function `get_width(x, y)` that determines the width of a single-peaked distribution defined by x points `x` and y points `y`. \n",
    "\n",
    "You could make `get_width` return the width at a given fraction of the peak height passed in a keyword argument, which defaults to a FWHM width. \n",
    "\n",
    "Test get_width with the distribution  `f(x) = exp(-4*ln(2)*x**2)` – it should return a FWHM of 1."
   ]
  },
  {
   "cell_type": "code",
   "execution_count": null,
   "id": "a85bc8d0",
   "metadata": {},
   "outputs": [],
   "source": []
  },
  {
   "cell_type": "markdown",
   "id": "f3184e57",
   "metadata": {},
   "source": [
    "**b)**\tWrite two functions, `gaussian(w,…)` and `lorentzian(w,…)` using the equations for these distributions given in the lecture notes, where the first positional argument `w` is the angular frequency $\\omega$, and other parameters are passed-in as subsequent positional arguments."
   ]
  },
  {
   "cell_type": "code",
   "execution_count": null,
   "id": "2165c2d4",
   "metadata": {},
   "outputs": [],
   "source": []
  },
  {
   "cell_type": "markdown",
   "id": "dce20d62",
   "metadata": {},
   "source": [
    "**c)**\tCreate a gaussian laser profile centred on $\\omega_0$=2.36 rad/fs (fs = femtosecond) with a width of $\\Delta\\omega$=0.5 rad/fs and also make a lorentzian profile with the same parameters. Compare these profiles by plotting them on the same axes, first on a linear scale and then on a log vertical scale. A log scale helps you compare the “wings” of the distributions. Record your observations.\n",
    "\n",
    "Note that $\\omega_0$=2.36 rad/fs corresponds to $\\lambda_0$ = 800 nm which is the centre wavelengh of titanium-doped-saphire lasers."
   ]
  },
  {
   "cell_type": "code",
   "execution_count": null,
   "id": "37280f59",
   "metadata": {},
   "outputs": [],
   "source": []
  },
  {
   "cell_type": "markdown",
   "id": "6583f98b",
   "metadata": {},
   "source": [
    "**d)**\tUsing your `get_width` function, convince yourself that the distributions have the expected widths."
   ]
  },
  {
   "cell_type": "code",
   "execution_count": null,
   "id": "7166a5a2",
   "metadata": {},
   "outputs": [],
   "source": []
  },
  {
   "cell_type": "markdown",
   "id": "30316453",
   "metadata": {},
   "source": [
    "### Extension"
   ]
  },
  {
   "cell_type": "markdown",
   "id": "92c258c7",
   "metadata": {},
   "source": [
    "**e)**\tShow that the areas under the distributions have the expected values. \n",
    "\n",
    "i) Start by integrating the guassian and lorentzian functions directly using `quad` integration from `scipy.integrate` (you can set an infinite integration range using `np.inf`). \n",
    "\n",
    "ii) Then obtain the areas of the sampled data using `simpson` from `scipy.integrate`."
   ]
  },
  {
   "cell_type": "code",
   "execution_count": null,
   "id": "6f4fe114",
   "metadata": {},
   "outputs": [],
   "source": []
  },
  {
   "cell_type": "markdown",
   "id": "1676a87e",
   "metadata": {},
   "source": [
    "## 1.2 Voigt profile\n",
    "In this part, you will simulate the combination of homogeneous and inhomogeneous broadening mechanisms and compare the result to the Voigt profile formula.\n"
   ]
  },
  {
   "cell_type": "markdown",
   "id": "d6d469e0",
   "metadata": {},
   "source": [
    "**a)**\tWrite a function that returns the width of a Voigt profile, as given by the empirical formula in the lecture notes."
   ]
  },
  {
   "cell_type": "code",
   "execution_count": null,
   "id": "3d00ebe2",
   "metadata": {},
   "outputs": [],
   "source": []
  },
  {
   "cell_type": "markdown",
   "id": "412512c6",
   "metadata": {},
   "source": [
    "**b)**\tCalculate the Voigt profile as the convolution of the previous gaussian and Lorentzian profiles using `convolve` from `scipy.signal`. Use the option `mode='same'` with `convolve` to ensure the convolution is the same size as the inputs. Plot all three profiles on the same axes and record your observations. Don't worry if the peak of the convolution is not aligned with the peaks of the other pulses - this is a quirk of the way convolve returns the data. In reality, the peaks should coincide."
   ]
  },
  {
   "cell_type": "code",
   "execution_count": null,
   "id": "16dfc7fd",
   "metadata": {},
   "outputs": [],
   "source": []
  },
  {
   "cell_type": "markdown",
   "id": "b282a562",
   "metadata": {},
   "source": [
    "**c)** Use your get_width function to check the empirial formula for the FWHM of the Voigt profile."
   ]
  },
  {
   "cell_type": "code",
   "execution_count": null,
   "id": "3907f84d",
   "metadata": {},
   "outputs": [],
   "source": []
  },
  {
   "cell_type": "markdown",
   "id": "d279fa67",
   "metadata": {},
   "source": [
    "### Extension"
   ]
  },
  {
   "cell_type": "markdown",
   "id": "86c5d558",
   "metadata": {},
   "source": [
    "**d)**\tCalculate a large number of convolutions (~100) of Gaussians and Lorentzians distributions of random widths in the range 0.1 - 2 rad/fs. Carry out a linear regression analysis of the Voigt empirical FWHMs vs the actual convolution widths using the `linregress` module from `scipy.stats` to test the validity of the empirical formula. Record your observations."
   ]
  },
  {
   "cell_type": "code",
   "execution_count": null,
   "id": "c0804785",
   "metadata": {},
   "outputs": [],
   "source": []
  }
 ],
 "metadata": {
  "kernelspec": {
   "display_name": "Python 3 (ipykernel)",
   "language": "python",
   "name": "python3"
  },
  "language_info": {
   "codemirror_mode": {
    "name": "ipython",
    "version": 3
   },
   "file_extension": ".py",
   "mimetype": "text/x-python",
   "name": "python",
   "nbconvert_exporter": "python",
   "pygments_lexer": "ipython3",
   "version": "3.9.0"
  }
 },
 "nbformat": 4,
 "nbformat_minor": 5
}
