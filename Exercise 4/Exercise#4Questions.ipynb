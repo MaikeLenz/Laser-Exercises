{
 "cells": [
  {
   "cell_type": "markdown",
   "id": "a85730d9-b83e-4789-8f43-ff6a69122bbf",
   "metadata": {},
   "source": [
    "# Coding Exercise #4 *Hermite-Gaussian Beams*"
   ]
  },
  {
   "cell_type": "markdown",
   "id": "2c8463fa-b80f-43d1-92a7-cb7ca3791a5b",
   "metadata": {},
   "source": [
    "In this exercise, you will visualise Hermite_Gaussian (HG) beams and analyse their dependencies on various parameters.\n",
    "\n",
    "HG beams are usually denoted $TEM_{m,n}$ where $TEM$ stands for Transverse Electromagnetic and $m,n$ are integers specifying the orders of the mode in the $x$ and $y$ directions transverse to the beam propagation direction, $z$.\n",
    "\n",
    "Note that sometimes the commas between $m$ and $n$ are omitted, i.e. $TEM_{mn}$.\n",
    "\n",
    "The **electric field** of the $TEM_{m,n}$ mode is given by the following somewhat intimidating formula:\n"
   ]
  },
  {
   "cell_type": "markdown",
   "id": "efd0f2b0-8963-470d-9f72-678423d84885",
   "metadata": {
    "tags": []
   },
   "source": [
    "##  $TEM_{mn}(x,y)=H_m\\left(\\frac{\\sqrt 2 x}{w(z)}\\right)H_n\\left(\\frac{\\sqrt 2 y}{w(z)}\\right)\\exp\\left(i(m+n)\\arctan\\left(\\frac{z}{z_R}\\right)\\right)TEM_{00}$\n",
    "\n",
    "where $H_n$(X) is the $n^{th}$ order Hermite polynomial, and $TEM_{0,0}$ is the lowest-order mode (often referred to as a *Gaussian Beam*), with **electric field** given by:"
   ]
  },
  {
   "cell_type": "markdown",
   "id": "1deba451-596e-4721-9d33-a7c34d9747eb",
   "metadata": {},
   "source": [
    "### $TEM_{00}(r=\\sqrt{x^2+y^2}, z)=E_0\\left(\\frac{w_0}{w(z)}\\right)\\exp\\left(\\frac{-r^2}{w^2(z)}\\right)\\exp \\left(-i k z - \\frac{i k r^2}{2 R(z)} + \\arctan \\left(\\frac{z}{z_R}\\right)\\right)$\n",
    "\n",
    "where $k$ is the standard wavenumber of wave propagation and"
   ]
  },
  {
   "cell_type": "markdown",
   "id": "abc60060-2089-46f6-aabf-d3ce0e2fac4b",
   "metadata": {},
   "source": [
    "$w(z) = w_0\\sqrt{1+\\left(\\frac{z}{z_r}\\right)^2}$ is the beam radius"
   ]
  },
  {
   "cell_type": "markdown",
   "id": "74dae7f3-09f3-4c85-b6eb-ff23e38ce7c4",
   "metadata": {},
   "source": [
    "$R(z) = z + \\frac{z_R^2}{z}$ is the wavefront radius of curvature"
   ]
  },
  {
   "cell_type": "markdown",
   "id": "22e26a38-243e-4406-84e5-8d5bd73378f7",
   "metadata": {},
   "source": [
    "$z_R = \\frac{\\pi w_0^2}{\\lambda}$ is the *Rayleigh Range* which is a measure of the depth of focus\n",
    "\n",
    "and \n",
    "\n",
    "$w_0 = w(0)$ is the *beam waist* which is the minimum beam radius, also known as the *spot radius*."
   ]
  },
  {
   "cell_type": "markdown",
   "id": "803147bb-9dac-4a4b-8355-fce62dc2c96c",
   "metadata": {},
   "source": [
    "Though these formulae are a bit of a handful, they are relatively easy to model. Modelling is an excellent way of getting a physical feel for these functions."
   ]
  },
  {
   "cell_type": "markdown",
   "id": "85750b95",
   "metadata": {},
   "source": [
    "# Coding Task\n",
    "\n",
    "A HeNe laser ($\\lambda=633\\,$nm) with a TEM$_{00}$ mode has its beam waist ($w_0=0.5\\,$mm) located at its output coupler."
   ]
  },
  {
   "cell_type": "markdown",
   "id": "c9c18990",
   "metadata": {},
   "source": [
    "### 4.1 Beams radius and area"
   ]
  },
  {
   "cell_type": "markdown",
   "id": "a5793b16",
   "metadata": {},
   "source": [
    "a) Plot the beam waist radius as a function of distance $z$ away from the output coupler in the range 0-10 m, where $z=0$ coresponds to the position of the output coupler."
   ]
  },
  {
   "cell_type": "markdown",
   "id": "5fb91b44",
   "metadata": {},
   "source": [
    "b) Show that the beam radius asymptotically approaches $w_0 z/z_R$ as $z\\rightarrow\\infty$."
   ]
  },
  {
   "cell_type": "markdown",
   "id": "3f975065",
   "metadata": {},
   "source": [
    "c) Convince yourself that the beam area has doubled after a distance $z_R$."
   ]
  },
  {
   "cell_type": "markdown",
   "id": "801e369a",
   "metadata": {},
   "source": [
    "d) The laser is pointed to the Moon. Estimate the beam size on the Moon's surface. What assumptions did you make?"
   ]
  },
  {
   "cell_type": "markdown",
   "id": "5e8d95ad",
   "metadata": {},
   "source": [
    "### 4.2 Wavefront radius of curvature"
   ]
  },
  {
   "cell_type": "markdown",
   "id": "29dec5e5",
   "metadata": {},
   "source": [
    "a) Plot the wavefront radius of curvature over the same range as 4.1a)."
   ]
  },
  {
   "cell_type": "markdown",
   "id": "dc7f9b51",
   "metadata": {},
   "source": [
    "b) Convince yourself that the wavefront is plane (flat) at the beam waist."
   ]
  },
  {
   "cell_type": "markdown",
   "id": "3662c114",
   "metadata": {},
   "source": [
    "c) Convince yourself that the wavefront is most curved at $z=z_R$."
   ]
  },
  {
   "cell_type": "markdown",
   "id": "7c6dfe56",
   "metadata": {},
   "source": [
    "d) Show that far from the laser, the wavefront looks like a section of a wavefront from a point-source located at the waist."
   ]
  },
  {
   "cell_type": "markdown",
   "id": "faf5114e",
   "metadata": {},
   "source": [
    "### 4.3 Intensity"
   ]
  },
  {
   "cell_type": "markdown",
   "id": "880bba4b",
   "metadata": {},
   "source": [
    "For these questions, you will need to use the formula given above for the electric field $TEM_{mn}$."
   ]
  },
  {
   "cell_type": "markdown",
   "id": "30ba5485",
   "metadata": {},
   "source": [
    "a) Plot the normalised beam intensity (i.e. max intensity = 1) as a function of $z$ on the beam axis, i.e. for $r=0$."
   ]
  },
  {
   "cell_type": "markdown",
   "id": "e1d41a1e",
   "metadata": {},
   "source": [
    "b) Plot the normalised beam intensity as a function of $r$ at the beam waist and at $z=1\\,$m. Convince yourself that the width of the intensity distributions at the $1/e^2$ height is $w(z)$."
   ]
  },
  {
   "cell_type": "markdown",
   "id": "3202fa6c",
   "metadata": {},
   "source": [
    "c) Plot a heatmap of $I(x,y)$ for $z=0$ and for $z=1\\,$m."
   ]
  },
  {
   "cell_type": "markdown",
   "id": "65aebd39",
   "metadata": {},
   "source": [
    "### 4.4 Higher-Order Modes"
   ]
  },
  {
   "cell_type": "markdown",
   "id": "27229fe5",
   "metadata": {},
   "source": [
    "Due to a misalignment, the HeNe mode changes to $TEM_{21}$."
   ]
  },
  {
   "cell_type": "markdown",
   "id": "377e1eca",
   "metadata": {},
   "source": [
    "a) Repeat 4.3a)."
   ]
  },
  {
   "cell_type": "markdown",
   "id": "03780322",
   "metadata": {},
   "source": [
    "b) Repeat 4.3b)."
   ]
  },
  {
   "cell_type": "markdown",
   "id": "a82c8af4",
   "metadata": {},
   "source": [
    "c) Repeat 4.3c)."
   ]
  },
  {
   "cell_type": "markdown",
   "id": "f37ca264",
   "metadata": {},
   "source": [
    "d) How do the $m, n$ value relate to the beam structure horizontally and vertically. Test your prediction with some other $m, n$ values."
   ]
  },
  {
   "cell_type": "markdown",
   "id": "c32512a2",
   "metadata": {},
   "source": [
    "### 4.5 Extension: Intensity Contours"
   ]
  },
  {
   "cell_type": "markdown",
   "id": "d1e37ce6",
   "metadata": {},
   "source": [
    "a) For a general $TEM_{00}$ mode make a contour plot of the unit-normalisd intensity over $(r,z)$ for $r/w_0$ in the range 0 to 4, and $z/z_R$ in the range -2 to 2. "
   ]
  },
  {
   "cell_type": "markdown",
   "id": "88525789",
   "metadata": {},
   "source": [
    "b) Estimate the volume bounded by the contour $I=0.5$, i.e. the volume within which the beam intensity is greater than or equal to half its maximum value."
   ]
  }
 ],
 "metadata": {
  "kernelspec": {
   "display_name": "Python 3 (ipykernel)",
   "language": "python",
   "name": "python3"
  },
  "language_info": {
   "codemirror_mode": {
    "name": "ipython",
    "version": 3
   },
   "file_extension": ".py",
   "mimetype": "text/x-python",
   "name": "python",
   "nbconvert_exporter": "python",
   "pygments_lexer": "ipython3",
   "version": "3.8.12"
  }
 },
 "nbformat": 4,
 "nbformat_minor": 5
}
