{
 "cells": [
  {
   "cell_type": "markdown",
   "id": "6c387f9f",
   "metadata": {},
   "source": [
    "# Coding Exercise # 2 : Laser Dynamics"
   ]
  },
  {
   "cell_type": "markdown",
   "id": "63d6cec4",
   "metadata": {},
   "source": [
    "# Intro"
   ]
  },
  {
   "cell_type": "markdown",
   "id": "b11a9550",
   "metadata": {},
   "source": [
    "In the lectures, we solved the coupled-rate equations for a multi-level laser system under the assumption of *steady-state*, i.e. assuming no time variation of the populations. In the steady-state, the laser output is constant. \n",
    "\n",
    "However, when a laser is first switched on, there  *laser dynamics* that occur before this steady state is reached, i.e. the laser output is oscillatory even with constant pumping. These are called *relaxation oscillations* or *switch-on oscillations*.\n",
    "\n",
    "This behaviour is described by a pair of coupled, nonlinear differential equations. These cannot be solved analytically in the general case, and this is why laser dynamics are usually brushed under the carpet in introductory courses like this one.\n",
    "\n",
    "\n",
    "However, in this exercise you will solve these equations numerrically using `odeint` from `scipy.integrate`\n"
   ]
  },
  {
   "cell_type": "markdown",
   "id": "4a18a9ee",
   "metadata": {},
   "source": [
    "## Laser Dynamics\n",
    "The differential equations that you need to solve are:"
   ]
  },
  {
   "cell_type": "markdown",
   "id": "dfe8b0f6",
   "metadata": {},
   "source": [
    "## $\\frac{d\\phi(t)}{dt}=KM_2(t)\\left[\\phi(t)+1\\right]-\\phi(t)/\\tau_c$\n",
    "\n",
    "\n",
    "## $\\frac{dM_2(t)}{dt}=Q_2-KM_2(t)\\phi(t)-M_2(t)/\\tau_{21}$"
   ]
  },
  {
   "cell_type": "markdown",
   "id": "38ab5abe",
   "metadata": {},
   "source": [
    "where (brace yourself...)\n",
    " \n",
    "$\\phi(t)$ = number of photons in cavity\n",
    " \n",
    "$M_2(t) = V_g  N_2(t)$ = upper state population (number)\n",
    "        \n",
    "$K = c\\sigma_{21} /V_c$\n",
    "\n",
    "$c$ = speed of light\n",
    "\n",
    "$Q_2 = V_g R_2$ = pumping rate (number/s)\n",
    "\n",
    "$V_c = A  d^*$ = beam volume in full cavity\n",
    "\n",
    "$V_g = A  L n$ = gain medium volume\n",
    "\n",
    "$A$ = beam cross section (assumed constant along cavity)\n",
    "\n",
    "$d^* = d + (n-1) L$\n",
    "\n",
    "$d$ = cold cavity length\n",
    "\n",
    "$L$ = gain medium length\n",
    "\n",
    "$n$ = gain medium refractive index\n",
    "\n",
    "$N_2(t)$ = upper state population (number/m$^3$)\n",
    "\n",
    "$R_2$ = pumping rate into upper state (number/m$^3/s$)\n",
    "\n",
    "$\\tau_c = \\frac{d^*}{c(\\alpha L - \\ln(r1 r2)/2)}$ = cavity decay time\n",
    "\n",
    "$\\tau_{21}$ = spont.decay time  of laser transition\n",
    "\n",
    "$\\sigma_{21}$ = stim.emission cross section\n",
    "\n",
    "$r_1$ = rear cavity mirror reflectivity\n",
    "\n",
    "$r_2$ = output coupler reflectivity\n",
    "\n",
    "$\\alpha$ = distributed cavity loss coeff (not including cavity mirrors)"
   ]
  },
  {
   "cell_type": "markdown",
   "id": "fbb35a3e",
   "metadata": {},
   "source": [
    "Note: the equations are nonlinear due to product $M_2(t)\\phi(t)$ that appears in both of them."
   ]
  },
  {
   "cell_type": "markdown",
   "id": "945dfebc",
   "metadata": {},
   "source": [
    "## Simulation Tasks"
   ]
  },
  {
   "cell_type": "markdown",
   "id": "806fcb8f",
   "metadata": {},
   "source": [
    "You will model a Nd:YAG laser with the following parameters:\n",
    "        \n",
    "$n =1.82$ \n",
    "\n",
    "$\\sigma_{21} = 2.8\\times 10^{-23}$ m$^2$\n",
    "\n",
    "$r_1 = 0.999$,  $r_2 = 0.90$ \n",
    "\n",
    "$A = 1\\times 10^{-6}$ m$^2$\n",
    "\n",
    "$L = 0.1$ m\n",
    "\n",
    "$d = 0.2$ m\n",
    "\n",
    "$\\alpha = 0$ /m\n",
    "\n",
    "$\\tau_{21} = 230\\times 10^{-6}$ s"
   ]
  },
  {
   "cell_type": "markdown",
   "id": "7dee0574",
   "metadata": {},
   "source": [
    "**a)** Assuming the pumping rate $Q_2$ is twice the threshold pumping rate $Q_{thresh}=\\left(K\\tau_c\\tau_{21}\\right)^{-1}$, calculate and plot the number of photons in the cavity as a function of time in the first millisecond after the laser is switched on.\n",
    "\n",
    "You should get *relaxation oscillations*, i.e. an exponentially decaying oscillation.\n"
   ]
  },
  {
   "cell_type": "markdown",
   "id": "06bdb5da",
   "metadata": {},
   "source": [
    "**b)** On what time scale is a steady-state reached?"
   ]
  },
  {
   "cell_type": "markdown",
   "id": "4cdb6eb6",
   "metadata": {},
   "source": [
    "### Extension\n",
    "**c)** Using `curve_fit` from `scipy.optimize` or otherwise, determine the period of the relaxation oscillations and the decay time.\n",
    "\n",
    "**d)** Hence make an analytic approximation to the relaxation oscillations and plot them out on the same axes as the real oscillations to check the quality of the fit. \n",
    "Note: You may need to use add in by hand a time-offset to align the curves for comparison."
   ]
  },
  {
   "cell_type": "markdown",
   "id": "4dc33fff",
   "metadata": {},
   "source": [
    "### Hint (spoiler if you want to work it out yourself)\n",
    "\n",
    "Your call to `odeint` should look like:\n",
    "\n",
    "`phi, M2 = odeint(dydt, y0, t, args=(...).T`\n",
    "\n",
    "where\n",
    "\n",
    "`dydt` is a function `def dydt(y, t, ...):` that returns the right hand sides of the equations, i.e. the tuple  `dphidt, dM2dt`, where `y` is the tuple `phi, M` and  `...` refers to additional positional arguments needed (the parameters of the problem) which are the same arguments passed to `odeint` (and in the same order)\n",
    "\n",
    "`y0` is a tuple of the initial conditions `dphidt` at t=0, `dM2dt` at t=0\n",
    "\n",
    "`t` is the time axis (numpy array).\n",
    "\n",
    "The `.T` transpose is necessary to unpack the data correctly; `phi` and `M2` will be arrays containing the values of `phi` and `M2` sampled on `t`.\n",
    "\n"
   ]
  },
  {
   "cell_type": "code",
   "execution_count": null,
   "id": "37403feb",
   "metadata": {},
   "outputs": [],
   "source": []
  }
 ],
 "metadata": {
  "kernelspec": {
   "display_name": "Python 3 (ipykernel)",
   "language": "python",
   "name": "python3"
  },
  "language_info": {
   "codemirror_mode": {
    "name": "ipython",
    "version": 3
   },
   "file_extension": ".py",
   "mimetype": "text/x-python",
   "name": "python",
   "nbconvert_exporter": "python",
   "pygments_lexer": "ipython3",
   "version": "3.9.0"
  }
 },
 "nbformat": 4,
 "nbformat_minor": 5
}
