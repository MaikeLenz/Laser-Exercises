{
 "cells": [
  {
   "cell_type": "markdown",
   "id": "6c387f9f",
   "metadata": {},
   "source": [
    "# Coding Exercise # 2 : Laser Dynamics"
   ]
  },
  {
   "cell_type": "markdown",
   "id": "63d6cec4",
   "metadata": {},
   "source": [
    "# Intro"
   ]
  },
  {
   "cell_type": "markdown",
   "id": "b11a9550",
   "metadata": {},
   "source": [
    "In the lectures, we solved the coupled-rate equations for a multi-level laser system assuming a *steady-state*. In the steady-state, the laser output is constant. \n",
    "\n",
    "However, when a laser is first switched on, *relaxation oscillations* can occur before the steady-state is reached, i.e. the laser output intensity exhbitis a series of regularly spaced spikes that decay away - even with constant pumping! \n",
    "\n",
    "The origin of *relaxation oscillations* is best understood when you have familiarised yourself with gain clamping (Lecture 5.4): As the laser intensity increases from zero it overshoots the steady-state intensity. This depletes the gain due to gain saturation, which in turn reduces the intensity which allows the gain to be pumped up again, and so on. This leads to intensity spikes that eventually settle down to a constant, steady-state intensity.\n",
    "\n",
    "This behaviour is described by two coupled, nonlinear differential equations. These cannot be solved analytically in the general case.\n",
    "\n",
    "However, in this exercise you will solve these equations numerically.\n"
   ]
  },
  {
   "cell_type": "markdown",
   "id": "4a18a9ee",
   "metadata": {},
   "source": [
    "## Laser Dynamics\n",
    "The differential equations that you need to solve are:"
   ]
  },
  {
   "cell_type": "markdown",
   "id": "dfe8b0f6",
   "metadata": {},
   "source": [
    "## $\\frac{d\\phi(t)}{dt}=KM_2(t)\\left[\\phi(t)+1\\right]-\\phi(t)/\\tau_c$\n",
    "\n",
    "\n",
    "## $\\frac{dM_2(t)}{dt}=Q_2-KM_2(t)\\phi(t)-M_2(t)/\\tau_{21}$"
   ]
  },
  {
   "cell_type": "markdown",
   "id": "38ab5abe",
   "metadata": {},
   "source": [
    "where\n",
    " \n",
    "+ $\\phi(t)$ = the number of photons in the cavity (dimensionless)\n",
    " \n",
    "+ $M_2(t)$ = the number of atoms in the upper state (dimensionless)\n",
    "        \n",
    "+ $K$ = a constant related to the transition cross-section and mode volume (/s)\n",
    "\n",
    "+ $Q_2$ = a constant related to the pumping rate (/s)\n",
    "\n",
    "+ $\\tau_{21}$ = the spontaneous decay time  of the laser transition (s)\n",
    "\n",
    "+ $\\tau_c$ = the *cavity decay time*, ie. time taken for light in unpumped cavity to decay away (s)"
   ]
  },
  {
   "cell_type": "markdown",
   "id": "fbb35a3e",
   "metadata": {},
   "source": [
    "Note: the equations are nonlinear due to the product $M_2(t)\\phi(t)$ that appears in both of them."
   ]
  },
  {
   "cell_type": "markdown",
   "id": "945dfebc",
   "metadata": {},
   "source": [
    "## Simulation Tasks"
   ]
  },
  {
   "cell_type": "markdown",
   "id": "700225b0",
   "metadata": {},
   "source": [
    "You will model a Nd:YAG oscillator with the following parameters:"
   ]
  },
  {
   "cell_type": "code",
   "execution_count": 8,
   "id": "4280e36d",
   "metadata": {},
   "outputs": [],
   "source": [
    "K = 3.0e-8 # /s\n",
    "Q2 = 1.6e19 # /s\n",
    "tau_21 = 2.3e-4 # s\n",
    "tau_c = 1.8e-8 # s"
   ]
  },
  {
   "cell_type": "markdown",
   "id": "7dee0574",
   "metadata": {},
   "source": [
    "**a)** Use `odeint` from `scipy.integrate` to numerically solve the coupled differential equations above for $\\phi(t)$ and $M_2(t)$ using the following time axis which covers the first 2 milliseconds from when the laser is switchd on. Plot your results. You should see a series of short spikes whose amplitudes decay exponentially. You will need to limit the x-range of your plot to see the individual spikes."
   ]
  },
  {
   "cell_type": "code",
   "execution_count": 27,
   "id": "56c9ed34-9d45-42e7-98f8-ca312cb80c5f",
   "metadata": {},
   "outputs": [],
   "source": [
    "# time axis\n",
    "t = np.linspace(0, 2e-3, 10000) # sec"
   ]
  },
  {
   "cell_type": "markdown",
   "id": "4dc33fff",
   "metadata": {},
   "source": [
    "### Hint (spoiler if you want to work it out yourself)\n",
    "\n",
    "Your call to `odeint` should look like:\n",
    "\n",
    "`phi, M2 = odeint(dydt, y0, t, args=(...).T`\n",
    "\n",
    "where\n",
    "\n",
    "`dydt` is a function `def dydt(y, t, ...):` that returns the right hand sides of the equations, i.e. the tuple  `dphidt, dM2dt`, where `y` is the tuple `phi, M` and  `...` refers to additional positional arguments needed (the parameters of the problem) which are the same arguments passed to `odeint` (and in the same order)\n",
    "\n",
    "`y0` is a tuple of the initial conditions `dphidt` at t=0, `dM2dt` at t=0\n",
    "\n",
    "`t` is the time axis (numpy array).\n",
    "\n",
    "The `.T` transpose is necessary to unpack the data correctly; `phi` and `M2` will be arrays containing the values of `phi` and `M2` sampled on `t`.\n",
    "\n"
   ]
  },
  {
   "cell_type": "code",
   "execution_count": 28,
   "id": "1780a48e",
   "metadata": {},
   "outputs": [],
   "source": [
    "import numpy as np\n",
    "from scipy.integrate import odeint"
   ]
  },
  {
   "cell_type": "code",
   "execution_count": 29,
   "id": "2016c0ca",
   "metadata": {},
   "outputs": [],
   "source": [
    "def dydt(y, t, K, Q2, tau_c, tau_21):\n",
    "    \"\"\" Function returning derivatives dphi/dt and dM2/dt -- called by odeint \"\"\"\n",
    "    # Note t is not used explicitly, but odeint requires it as second positional parameter.\n",
    "    phi, M2 = y\n",
    "    dphidt = K * M2 * (phi + 1) - phi/tau_c\n",
    "    dM2dt = Q2 - K * M2 * phi - phi/tau_21\n",
    "    return dphidt, dM2dt"
   ]
  },
  {
   "cell_type": "code",
   "execution_count": 30,
   "id": "00352eb2",
   "metadata": {
    "tags": []
   },
   "outputs": [],
   "source": [
    "# Initial conditions\n",
    "phi0 = M20 = 0\n",
    "y0 = phi0, M20"
   ]
  },
  {
   "cell_type": "code",
   "execution_count": 31,
   "id": "950e9d80",
   "metadata": {},
   "outputs": [],
   "source": [
    "phi, M2 = odeint(dydt, y0, t, args=(K, Q2, tau_c, tau_21)).T"
   ]
  },
  {
   "cell_type": "code",
   "execution_count": 32,
   "id": "a45fc5f8",
   "metadata": {},
   "outputs": [],
   "source": [
    "import matplotlib.pyplot as plt"
   ]
  },
  {
   "cell_type": "code",
   "execution_count": 33,
   "id": "55a4639b",
   "metadata": {},
   "outputs": [
    {
     "data": {
      "image/png": "[encoded data removed]",
      "text/plain": [
       "<Figure size 432x288 with 1 Axes>"
      ]
     },
     "metadata": {
      "needs_background": "light"
     },
     "output_type": "display_data"
    }
   ],
   "source": [
    "plt.plot(1000*t, phi)\n",
    "plt.title(\"Relaxation oscillations: phi(t) vs t\")\n",
    "plt.xlabel(\"time since switch-on (millisec)\")\n",
    "plt.ylabel(\"phi(t) number of photons in cavity\")\n",
    "plt.show()"
   ]
  },
  {
   "cell_type": "markdown",
   "id": "ec5f99cc-a0d0-4e85-ab0b-2ace8d06b3d1",
   "metadata": {},
   "source": [
    "Let's zoom in on the spikes:"
   ]
  },
  {
   "cell_type": "code",
   "execution_count": 34,
   "id": "ac6e4c1d-3fa5-4025-80b0-68b422f9f003",
   "metadata": {},
   "outputs": [
    {
     "data": {
      "image/png": "[encoded data removed]",
      "text/plain": [
       "<Figure size 432x288 with 1 Axes>"
      ]
     },
     "metadata": {
      "needs_background": "light"
     },
     "output_type": "display_data"
    }
   ],
   "source": [
    "plt.plot(1000*t, phi)\n",
    "plt.title(\"Relaxation oscillations: phit(t) vs t zoomed\")\n",
    "plt.xlabel(\"time since switch-on (millisec)\")\n",
    "plt.ylabel(\"phi(t) number of photons in cavity\")\n",
    "plt.xlim((0.12,0.22))\n",
    "plt.show()"
   ]
  },
  {
   "cell_type": "code",
   "execution_count": 35,
   "id": "8fa50069-1368-4366-b548-c171e9159eb7",
   "metadata": {},
   "outputs": [
    {
     "data": {
      "image/png": "[encoded data removed]",
      "text/plain": [
       "<Figure size 432x288 with 1 Axes>"
      ]
     },
     "metadata": {
      "needs_background": "light"
     },
     "output_type": "display_data"
    }
   ],
   "source": [
    "plt.plot(1000*t, M2)\n",
    "plt.title(\"Relaxation oscillations: M2(t) vs t\")\n",
    "plt.xlabel(\"time since switch-on (millisec)\")\n",
    "plt.ylabel(\"Upper state popoulation M2(t)\")\n",
    "plt.show()"
   ]
  },
  {
   "cell_type": "markdown",
   "id": "7462c278",
   "metadata": {},
   "source": [
    "**b)** Estimate the steady-state value of $\\phi$."
   ]
  },
  {
   "cell_type": "code",
   "execution_count": 37,
   "id": "441a9b26-2adb-4a5d-8c76-3ff17702e50c",
   "metadata": {},
   "outputs": [
    {
     "name": "stdout",
     "output_type": "stream",
     "text": [
      "Steady-state value of phi is 2.88e+11 photons\n"
     ]
    }
   ],
   "source": [
    "print(f\"Steady-state value of phi is {phi[-1]:.2e} photons\")"
   ]
  },
  {
   "cell_type": "markdown",
   "id": "8b211234",
   "metadata": {
    "tags": []
   },
   "source": [
    "### Extension\n",
    "**c)** Use `find_peaks` from `scipy.signal` to get the peaks of `phi` and plot them on top of the relaxation oscillations."
   ]
  },
  {
   "cell_type": "code",
   "execution_count": 38,
   "id": "7c0768db-0d86-4b0d-9512-4aa5d033ce03",
   "metadata": {},
   "outputs": [],
   "source": [
    "from scipy.signal import find_peaks"
   ]
  },
  {
   "cell_type": "code",
   "execution_count": 39,
   "id": "4a100a73-593b-4eb6-a4d6-7bc98bc4ab33",
   "metadata": {},
   "outputs": [],
   "source": [
    "peak_indicies, _ = find_peaks(phi)"
   ]
  },
  {
   "cell_type": "code",
   "execution_count": 40,
   "id": "210d971b-e6df-4e1f-8d60-fc8069d1c8a2",
   "metadata": {},
   "outputs": [],
   "source": [
    "t_peaks = t[peak_indicies]\n",
    "phi_peaks = phi[peak_indicies]"
   ]
  },
  {
   "cell_type": "code",
   "execution_count": 41,
   "id": "ad3b297b-831b-4ce6-888b-8569c3a02f0b",
   "metadata": {},
   "outputs": [
    {
     "data": {
      "image/png": "[encoded data removed]",
      "text/plain": [
       "<Figure size 432x288 with 1 Axes>"
      ]
     },
     "metadata": {
      "needs_background": "light"
     },
     "output_type": "display_data"
    }
   ],
   "source": [
    "plt.plot(1000*t, phi)\n",
    "plt.plot(1000*t_peaks, phi_peaks, \"x\")\n",
    "plt.show()"
   ]
  },
  {
   "cell_type": "markdown",
   "id": "d6483b31-285b-4ec2-b487-e998290db7ee",
   "metadata": {},
   "source": [
    "**d)** Use `curve_fit` from `scipy.optimize` to fit an exponential decay to the peaks to determine the the decay time of the relaxation oscillatons."
   ]
  },
  {
   "cell_type": "code",
   "execution_count": 42,
   "id": "262684b0-8ad5-4629-b5dd-aaf2cabd98e8",
   "metadata": {},
   "outputs": [],
   "source": [
    "from scipy.optimize import curve_fit"
   ]
  },
  {
   "cell_type": "code",
   "execution_count": 43,
   "id": "e1d9eef8-7be1-4ac4-8714-83f06a3a23bc",
   "metadata": {},
   "outputs": [],
   "source": [
    "def exp_decay(t, A0, tau, phi0):\n",
    "    return A0 * np.exp(-t/tau) + phi0"
   ]
  },
  {
   "cell_type": "code",
   "execution_count": 44,
   "id": "f7a9943e-7c01-4387-a7a4-5ab3f88e408f",
   "metadata": {},
   "outputs": [],
   "source": [
    "A0_guess = 6e12\n",
    "tau_guess = 0.1e-3\n",
    "phi0_guess = 2.8e11\n"
   ]
  },
  {
   "cell_type": "code",
   "execution_count": 45,
   "id": "3ca4ea30-6eaa-4ee9-b455-cfd931a8f8bf",
   "metadata": {},
   "outputs": [
    {
     "name": "stdout",
     "output_type": "stream",
     "text": [
      "[1.28151293e+13 1.71872375e-04 2.95544870e+11]\n"
     ]
    }
   ],
   "source": [
    "popt, pcov = curve_fit(exp_decay, t_peaks, phi_peaks, p0=[A0_guess, tau_guess, phi0_guess])\n",
    "print(popt)"
   ]
  },
  {
   "cell_type": "code",
   "execution_count": 46,
   "id": "864afa85-1667-4dcb-a113-8e14850066d1",
   "metadata": {},
   "outputs": [],
   "source": [
    "fitted_curve = exp_decay(t, *popt)"
   ]
  },
  {
   "cell_type": "code",
   "execution_count": 47,
   "id": "3bdd31e5-d7d4-46e4-be53-df12551d4a1c",
   "metadata": {},
   "outputs": [
    {
     "data": {
      "image/png": "[encoded data removed]",
      "text/plain": [
       "<Figure size 432x288 with 1 Axes>"
      ]
     },
     "metadata": {
      "needs_background": "light"
     },
     "output_type": "display_data"
    }
   ],
   "source": [
    "plt.plot(1000*t, phi)\n",
    "plt.plot(1000*t, fitted_curve)\n",
    "plt.show()"
   ]
  },
  {
   "cell_type": "code",
   "execution_count": 48,
   "id": "bcb628b0-496f-404a-9d87-e235ffd080da",
   "metadata": {},
   "outputs": [
    {
     "name": "stdout",
     "output_type": "stream",
     "text": [
      "Decay time from curve fit = 0.172 milliseconds\n"
     ]
    }
   ],
   "source": [
    "print(f\"Decay time from curve fit = {1000*popt[1]:.3f} milliseconds\")"
   ]
  },
  {
   "cell_type": "code",
   "execution_count": null,
   "id": "e4f34f9c",
   "metadata": {},
   "outputs": [],
   "source": []
  }
 ],
 "metadata": {
  "kernelspec": {
   "display_name": "Python 3 (ipykernel)",
   "language": "python",
   "name": "python3"
  },
  "language_info": {
   "codemirror_mode": {
    "name": "ipython",
    "version": 3
   },
   "file_extension": ".py",
   "mimetype": "text/x-python",
   "name": "python",
   "nbconvert_exporter": "python",
   "pygments_lexer": "ipython3",
   "version": "3.8.11"
  }
 },
 "nbformat": 4,
 "nbformat_minor": 5
}
