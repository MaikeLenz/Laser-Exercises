{
 "cells": [
  {
   "cell_type": "markdown",
   "id": "b66ed40d",
   "metadata": {},
   "source": [
    "# Coding Exercise #5 *Cavity Stability sims using ABCD Matrices* Solutions"
   ]
  },
  {
   "cell_type": "markdown",
   "id": "1250550f",
   "metadata": {},
   "source": [
    "In the lectures we derived the cavity stability condition\n",
    "\n",
    "$0\\le g_1 g_2 \\le 1$\n",
    "\n",
    "where $g_1 = 1 - d/r_1$, $g_2 = 1 - d/r_2$, with $d$ the cavity length, and $r_1$, $r_2$ the ROCs of the cavity mirrors.\n",
    "\n",
    "In this coding exericse you will test the stability condition directly by simulating mutliple round trips of ray in the cavity using ABCD transfer matrices."
   ]
  },
  {
   "cell_type": "markdown",
   "id": "5d113d6d",
   "metadata": {},
   "source": [
    "### 5.1 Cavity Stability Functions"
   ]
  },
  {
   "cell_type": "markdown",
   "id": "18c6603f",
   "metadata": {},
   "source": [
    "**a)** Start by writing a function `g1_g2_product(d, r1, r2)` that returns the product $g_1 g_2$. \n"
   ]
  },
  {
   "cell_type": "code",
   "execution_count": 1,
   "id": "40e0d7c5",
   "metadata": {},
   "outputs": [],
   "source": [
    "def g1_g2_product(d,r1,r2):\n",
    "    return (1-d/r1)*(1-d/r2)"
   ]
  },
  {
   "cell_type": "markdown",
   "id": "aff991a6",
   "metadata": {},
   "source": [
    "**b)** Check your function for a 'half-symmetric confocal' cavity which has $r_1=2 d$ and $r_2 = $plane, which should have $g_1 g_2 = 1/2$.\n",
    "\n",
    "Hint: $\\infty$ can be represented by `np.inf`."
   ]
  },
  {
   "cell_type": "code",
   "execution_count": 2,
   "id": "2ff0fc17",
   "metadata": {},
   "outputs": [
    {
     "name": "stdout",
     "output_type": "stream",
     "text": [
      "0.5\n"
     ]
    }
   ],
   "source": [
    "import numpy as np\n",
    "#half symm confocal: \n",
    "d=2#m\n",
    "r1=2*d\n",
    "r2=np.inf\n",
    "print(g1_g2_product(d,r1,r2))\n",
    "#yes, prints 0.5"
   ]
  },
  {
   "cell_type": "markdown",
   "id": "bf60b16a",
   "metadata": {},
   "source": [
    "**c)** Next write a function `stability(d, r1, r2)` that returns the stability of a cavity as a string, \"stable\", \"unstable\", \"marginally stable\"."
   ]
  },
  {
   "cell_type": "code",
   "execution_count": 3,
   "id": "fc3510f2",
   "metadata": {},
   "outputs": [],
   "source": [
    "def stability(d,r1,r2):\n",
    "    x=g1_g2_product(d,r1,r2)\n",
    "    if x<0 or x>1:\n",
    "        return \"unstable\"\n",
    "    elif x==0 or x==1:\n",
    "        return \"marginally stable\"\n",
    "    else:\n",
    "        return \"stable\""
   ]
  },
  {
   "cell_type": "markdown",
   "id": "2978100b",
   "metadata": {},
   "source": [
    "### 5.2 Dictionary of cavities"
   ]
  },
  {
   "cell_type": "markdown",
   "id": "46a6d76d",
   "metadata": {},
   "source": [
    "**a)** Now create a dictionary to hold the parameters of number of cavities each with $d=1\\,$m. I'll start the dictionary with a \"plane-pane\" cavity: "
   ]
  },
  {
   "cell_type": "code",
   "execution_count": 4,
   "id": "1da42054",
   "metadata": {},
   "outputs": [],
   "source": [
    "cavities = {}\n",
    "cavities[\"plane-plane\"] = (1, np.inf, np.inf)\n",
    "cavities[\"symmetric confocal\"] =(1,1,1)\n",
    "cavities[\"half-symmetric confocal\"]=(1,2,np.inf)\n",
    "cavities[\"concave-convex\"]=(1,2,-1) #example values, need r1>d and r2=-(r1-d)\n",
    "cavities[\"negative branch confocal\"]=(1,1.5,0.5) #has r1+r2=2d\n",
    "cavities[\"positive branch confocal\"]=(1,0.5,-1.5) #r1-r2=2d"
   ]
  },
  {
   "cell_type": "markdown",
   "id": "c2587817",
   "metadata": {},
   "source": [
    "**b)** Add the following cavities to the dictionary:\n",
    "\n",
    "- \"symmetric-confocal\"\n",
    "\n",
    "- \"half symmetric-confocal\"\n",
    "\n",
    "- \"concave-convex\" with $r_1=2 d$\n",
    "\n",
    "- \"negative-branch-confocal\" with $r_1=1.5 d$\n",
    "\n",
    "- \"postive-branch-confocal\" with $r_1 = 0.5 d$"
   ]
  },
  {
   "cell_type": "markdown",
   "id": "8faa67df",
   "metadata": {},
   "source": [
    "**c)** Loop through the dictionary and print in a 'table' of the name of each cavity, its parameters, its $g_1*g_2$ product and its stability.\n",
    "If you want to make the table look nice, read up python `f-string alignment`."
   ]
  },
  {
   "cell_type": "code",
   "execution_count": 5,
   "id": "dc3fbf82",
   "metadata": {},
   "outputs": [
    {
     "name": "stdout",
     "output_type": "stream",
     "text": [
      "Cavity                                    g1*g2                                  Stability\n",
      "plane-plane                                1.0                           marginally stable\n",
      "symmetric confocal                         0.0                           marginally stable\n",
      "half-symmetric confocal                    0.5                                      stable\n",
      "concave-convex                             1.0                           marginally stable\n",
      "negative branch confocal           -0.33333333333333337                           unstable\n",
      "positive branch confocal           -1.6666666666666665                            unstable\n"
     ]
    }
   ],
   "source": [
    "# printing Header\n",
    "print(f\"{'Cavity' : <30}{'g1*g2' : ^30}{'Stability' : >30}\")\n",
    "  \n",
    "# printing values of variables in Aligned manner\n",
    "for key in cavities:\n",
    "    print(f\"{key : <30}{g1_g2_product(cavities[key][0],cavities[key][1],cavities[key][2]) : ^30}{stability(cavities[key][0],cavities[key][1],cavities[key][2]) : >30}\")"
   ]
  },
  {
   "cell_type": "markdown",
   "id": "2314cf7a",
   "metadata": {},
   "source": [
    "### 5.3 ABCD Matrix Formalism - Rays"
   ]
  },
  {
   "cell_type": "markdown",
   "id": "3cfaf80f",
   "metadata": {},
   "source": [
    "Let's start by reviewing the ABCD method for ray propagation in relation to analysing cavity stability.\n",
    "\n",
    "Imagine an optical ray in the cavity, which is a distance $y$ above the optical axis and make an angle $\\theta$ with it.\n",
    "\n",
    "We can make a column vector of this $\\begin{bmatrix} y \\\\ \\theta \\end{bmatrix}$.\n",
    "\n",
    "The action of different optical elements on this ray can me modelled using various matrices. e.g. the matrix for free space\n",
    "propagation through a distance $d$ is:\n",
    "\n",
    "\n",
    "$\\begin{bmatrix} 1 & d \\\\ 0 & 1 \\end{bmatrix}$.\n",
    "\n",
    "Multiplying this matrix into a ray vector leads to a new \n",
    "ray vector that has freely propagated a distance $d$.\n",
    "\n",
    "$\\begin{bmatrix} 1 & d \\\\ 0 & 1 \\end{bmatrix} \\begin{bmatrix} y \\\\ \\theta \\end{bmatrix} = \\begin{bmatrix} y + d\\theta \\\\ \\theta \\end{bmatrix}$.\n",
    "\n",
    "Convince yourself that this is correct, note that theta must be in radians.\n",
    "\n",
    "\n",
    "To model a round trip in a cavity, we also need matrices to represent the effect of the cavity mirrors.\n",
    "\n",
    "This can be done for mirrors, but it's equivalent to treat the mirrors as lenses (i.e. we *unfold* the cavity) which makes life easier since we don't need to take into account the changes in direction upon each refletion.\n",
    "\n",
    "The ABCD matrix for refraction in a thin lens of focal length f is:\n",
    "\n",
    "$\\begin{bmatrix} 1 & 0 \\\\ -1/f & 1 \\end{bmatrix}$.\n",
    "\n",
    "which doesn't change $y$ but changes $\\theta$ in accordance with the laws of refraction. Again, convince yourself that this is correct.\n",
    "\n",
    "The power of the ABCD matrix method is that the effect of multiple optical elements is obtained by multiplying the individual matrices to make one overall matrix."
   ]
  },
  {
   "cell_type": "markdown",
   "id": "0c76c162",
   "metadata": {},
   "source": [
    "We will use use `numpy` arrays to represent the matrices and vectors.\n",
    "\n",
    "To multiply a matrix `M` into a vector `v` you write `M.dot(v)`.\n",
    "\n",
    "To multiply matrices `M1` and `M2` you write `M1.dot(M2)`.\n",
    "\n",
    "Remember, order is important - you have to think which ABCD matrix needs to get applied first and arrange the order in the product accordingly!"
   ]
  },
  {
   "cell_type": "markdown",
   "id": "244a3c32",
   "metadata": {},
   "source": [
    "**a)** To get you started, the function `v_ray(y, theta)` and `M_d(d)` below, implement a ray vector and the ABCD matrix for free-space propagation, respectively, using  `numpy` arrays."
   ]
  },
  {
   "cell_type": "code",
   "execution_count": 6,
   "id": "3f2f60ef",
   "metadata": {},
   "outputs": [],
   "source": [
    "def v_ray(y, theta):\n",
    "    \"\"\" ray vector\"\"\"\n",
    "    return np.array([y, theta])"
   ]
  },
  {
   "cell_type": "code",
   "execution_count": 7,
   "id": "3afb16bf",
   "metadata": {},
   "outputs": [],
   "source": [
    "def M_d(d):\n",
    "    \"\"\" free space propagation by distance d \"\"\"\n",
    "    return np.array([[1, d], \n",
    "                     [0, 1]])"
   ]
  },
  {
   "cell_type": "markdown",
   "id": "f24614fc",
   "metadata": {},
   "source": [
    "**b)** Write a function `M_f(f)` that implements focusing by a thin lens of focal length $f$."
   ]
  },
  {
   "cell_type": "code",
   "execution_count": 8,
   "id": "24bfdd6b",
   "metadata": {},
   "outputs": [],
   "source": [
    "def M_f(f):\n",
    "    \"\"\"focusing by thin lens, focal length f\"\"\"\n",
    "    return np.array([[1,0],\n",
    "                     [-1/f,1]])"
   ]
  },
  {
   "cell_type": "markdown",
   "id": "57ad098a",
   "metadata": {},
   "source": [
    "**c)** Now write a function `M_round_trip(d, r1, r2)` that implements a round-trip in a cavity of length `d` with mirrors of ROCs `r1`, `r2`. \n",
    "\n",
    "Remember we are \"unwrapping\" the cavity by modelling the mirrors as lenses, where $f_1 = r_1/2$, $f_2 = r_2/2$.\n",
    "\n",
    "**Start your roundtrip at mirror 1 (lens 1)**. Although you are free to start the round-trip where you want in the cavity, this will make it easier to compare you solution with the example solution later."
   ]
  },
  {
   "cell_type": "code",
   "execution_count": 9,
   "id": "c2241284",
   "metadata": {},
   "outputs": [],
   "source": [
    "def M_round_trip(d,r1,r2):\n",
    "    f2=r2/2\n",
    "    f1=r1/2\n",
    "    #return M_d(d).dot(M_f(f2).dot(M_d(d).dot(M_f(f1))))\n",
    "    return M_f(f1).dot(M_d(d).dot(M_f(f2).dot(M_d(d))))"
   ]
  },
  {
   "cell_type": "markdown",
   "id": "e7079478",
   "metadata": {},
   "source": [
    "**d)** Write a function `plotter(d, r1, r2, N, y0, theta0, cavity_name)` which plots with lines and markers\n",
    "- y vs round trip number\n",
    "\n",
    "- theta vs round trip number\n",
    "\n",
    "\n",
    "where \n",
    "`N` is the number of round trips\n",
    "`y0` is the initial ray position (recall that we set this up to start at mirror 1)\n",
    "`theta0` is the initial ray angle\n",
    "`cavity_name` is a string for adding a title to each of the plots\n"
   ]
  },
  {
   "cell_type": "code",
   "execution_count": 10,
   "id": "3b8a7930",
   "metadata": {},
   "outputs": [],
   "source": [
    "import matplotlib.pyplot as plt\n",
    "def plotter(d,r1,r2,N,y0,theta0,cavity_name):\n",
    "    y=[y0]\n",
    "    theta=[theta0]\n",
    "    #d,r1,r2=cavities[cavity_name]\n",
    "    for i in range(N):\n",
    "        ray=v_ray(y[-1],theta[-1])\n",
    "        new_ray=M_round_trip(d,r1,r2).dot(ray)\n",
    "        y.append(new_ray[0])\n",
    "        theta.append(new_ray[1])\n",
    "    plt.plot(range(N+1),np.array(y),label=\"y\")\n",
    "    plt.plot(range(N+1),np.array(theta),label=\"theta\")\n",
    "    plt.legend()\n",
    "    plt.xlabel(\"Round trips\")\n",
    "    plt.title(cavity_name)\n",
    "    plt.show()"
   ]
  },
  {
   "cell_type": "markdown",
   "id": "30e065ac",
   "metadata": {},
   "source": [
    "**e)** Call `plotter` with the `plane plane` cavity parameters. Start with `N = 10`, `y0 = 0` and `theta0 = 1e-3`.\n",
    "\n",
    "Interpret the behaviour (remember the cavity has been *unfolded*) and comment on the practicality of the plane plane cavity."
   ]
  },
  {
   "cell_type": "code",
   "execution_count": 11,
   "id": "b02077c5",
   "metadata": {},
   "outputs": [
    {
     "data": {
      "image/png": "[encoded data removed]",
      "text/plain": [
       "<Figure size 432x288 with 1 Axes>"
      ]
     },
     "metadata": {
      "needs_background": "light"
     },
     "output_type": "display_data"
    }
   ],
   "source": [
    "d,r1,r2=cavities[\"plane-plane\"]\n",
    "plotter(d,r1,r2,10,0,1e-3,\"plane-plane\")"
   ]
  },
  {
   "cell_type": "markdown",
   "id": "b4e61589",
   "metadata": {},
   "source": [
    "**f)** Repeat for the `symmetric-confocal-cavity` and the `positive-branch-confocal`. For the latter, you might need to reduce the valuy of `N` to get a clearer picture of what is going on.\n",
    "\n",
    "For these the interpretation of the plots will probably take some more thought. \n",
    "\n",
    "I found it helpful to sketch the unfolded cavity on a piece of paper over about 4 round trips to follow the ray through"
   ]
  },
  {
   "cell_type": "code",
   "execution_count": 12,
   "id": "30c88127",
   "metadata": {},
   "outputs": [
    {
     "data": {
      "image/png": "[encoded data removed]",
      "text/plain": [
       "<Figure size 432x288 with 1 Axes>"
      ]
     },
     "metadata": {
      "needs_background": "light"
     },
     "output_type": "display_data"
    }
   ],
   "source": [
    "d,r1,r2=cavities[\"symmetric confocal\"]\n",
    "plotter(d,r1,r2,10,0,1e-3,\"symmetric confocal\")"
   ]
  },
  {
   "cell_type": "code",
   "execution_count": 25,
   "id": "21b171bc",
   "metadata": {},
   "outputs": [
    {
     "data": {
      "image/png": "[encoded data removed]",
      "text/plain": [
       "<Figure size 432x288 with 1 Axes>"
      ]
     },
     "metadata": {
      "needs_background": "light"
     },
     "output_type": "display_data"
    }
   ],
   "source": [
    "d,r1,r2=cavities[\"positive branch confocal\"]\n",
    "plotter(d,r1,r2,6,0,1e-3,\"positive branch confocal\")"
   ]
  },
  {
   "cell_type": "markdown",
   "id": "5c771225",
   "metadata": {},
   "source": [
    "### 5.4 Extension: ABCD Matrix Formalism - Gaussian Beams\n",
    "In this extension, we will use the q-parameter to simulate a round trip of a Gaussian beam in a cavity."
   ]
  },
  {
   "cell_type": "markdown",
   "id": "8a25966e",
   "metadata": {},
   "source": [
    "**a)** Write the following functions:"
   ]
  },
  {
   "cell_type": "markdown",
   "id": "844b6405",
   "metadata": {},
   "source": [
    "i) `get_q(R, w, lam)` which returns the q-parameter for a Gaussian beam, where `R` is the wavefront ROC, `w` is the beam width, and `lam` is the wavelength."
   ]
  },
  {
   "cell_type": "code",
   "execution_count": 14,
   "id": "a25525df",
   "metadata": {},
   "outputs": [],
   "source": [
    "def get_q(R,w,lam):\n",
    "    return 1/((1/R)-(1J*lam/(np.pi*w**2)))"
   ]
  },
  {
   "cell_type": "markdown",
   "id": "e9d193a1",
   "metadata": {},
   "source": [
    "ii) `get_R_from_q(q, lam)` which returns `R` from `q`.\n",
    "\n",
    "Make sure it can properly handle the case when the real part of q equals zero.\n"
   ]
  },
  {
   "cell_type": "code",
   "execution_count": 15,
   "id": "f9161694",
   "metadata": {},
   "outputs": [
    {
     "name": "stdout",
     "output_type": "stream",
     "text": [
      "(-0+1.3416478091411652j)\n"
     ]
    }
   ],
   "source": [
    "def get_R_from_q(q,w,lam):\n",
    "    if q.real==0:\n",
    "        return 1/((-1J/q.imag)+(1J*lam/(np.pi*w**2)))\n",
    "    else:\n",
    "        return 1/((1/q)+(1J*lam/(np.pi*w**2)))\n",
    "print(get_R_from_q(1J,1e-3,800e-9))"
   ]
  },
  {
   "cell_type": "markdown",
   "id": "7f2d78c2",
   "metadata": {},
   "source": [
    "iii) `get_w_from_q(q, lam)` which returns `w` from `q`.\n"
   ]
  },
  {
   "cell_type": "code",
   "execution_count": 16,
   "id": "90853551",
   "metadata": {},
   "outputs": [],
   "source": [
    "def get_w_from_q(q,R,lam):\n",
    "    return np.sqrt(1J*lam/(((1/R)-(1/q))*np.pi))"
   ]
  },
  {
   "cell_type": "markdown",
   "id": "f67e30db",
   "metadata": {},
   "source": [
    "iv) `get_new_q(M, q)` which returns the new q-parameter after application of ABCD matrix `M`."
   ]
  },
  {
   "cell_type": "code",
   "execution_count": 17,
   "id": "767778ed",
   "metadata": {},
   "outputs": [],
   "source": [
    "def get_new_q(M,q):\n",
    "    return (M[0][0]+M[0][1]/q)/(M[1][0]+M[1][1]/q)"
   ]
  },
  {
   "cell_type": "markdown",
   "id": "a8cef09b",
   "metadata": {},
   "source": [
    "**b)** Test the correctness of your functions by simulating the focusing of a Gaussian beam with a lens using the following parameters:"
   ]
  },
  {
   "cell_type": "code",
   "execution_count": 18,
   "id": "b667fe38",
   "metadata": {},
   "outputs": [],
   "source": [
    "lam = 633e-9 # m\n",
    "f = 1 # focal length of lens\n",
    "w1 = 1e-3 # m, beam width at lens"
   ]
  },
  {
   "cell_type": "markdown",
   "id": "524e7335",
   "metadata": {},
   "source": [
    "i) Assuming the lens is positioned at the waist of the beam, get the q-parameter, `q1` of the beam at the lens.\n",
    "\n",
    "You should get `4.963021569652121j`"
   ]
  },
  {
   "cell_type": "code",
   "execution_count": 19,
   "id": "14aa864c",
   "metadata": {},
   "outputs": [
    {
     "name": "stdout",
     "output_type": "stream",
     "text": [
      "(-0+4.963021569652121j)\n"
     ]
    }
   ],
   "source": [
    "q1=get_q(np.inf,w1,lam)\n",
    "print(q1)\n",
    "#yes, right value"
   ]
  },
  {
   "cell_type": "markdown",
   "id": "eba53fa3",
   "metadata": {},
   "source": [
    "ii) Check that the correct `R` and `w` are returned by `get_R_from_q(q1)` and `get_w_from_q(q1)`."
   ]
  },
  {
   "cell_type": "code",
   "execution_count": 20,
   "id": "6d502d10",
   "metadata": {},
   "outputs": [
    {
     "name": "stdout",
     "output_type": "stream",
     "text": [
      "(0.0009999999999999998+0j)\n"
     ]
    }
   ],
   "source": [
    "R=np.inf\n",
    "#print(get_R_from_q(q1,w1,lam))\n",
    "#get divide by zero, so infinite\n",
    "print(get_w_from_q(q1,R,lam))"
   ]
  },
  {
   "cell_type": "markdown",
   "id": "8d1045f4",
   "metadata": {},
   "source": [
    "iii) Now obtain the q-parameter, `qL`, for the Gaussian beam immediately after the lens. Hint: use `get_new_q` to apply the focusing ABCD matric `M_f(f)` from above to `q1`. \n",
    "\n",
    "You should get `(-0.9609856326054423+0.19362914690552147j)`."
   ]
  },
  {
   "cell_type": "code",
   "execution_count": 21,
   "id": "b16efa9e",
   "metadata": {},
   "outputs": [
    {
     "name": "stdout",
     "output_type": "stream",
     "text": [
      "(-0.9609856326054423+0.19362914690552147j)\n"
     ]
    }
   ],
   "source": [
    "qL=get_new_q(M_f(f),q1)\n",
    "print(qL)\n",
    "#yes, matches"
   ]
  },
  {
   "cell_type": "markdown",
   "id": "13744787",
   "metadata": {},
   "source": [
    "iv) Now simulate the free-space propagation of the `qL` beam from the lens along the z axis given by"
   ]
  },
  {
   "cell_type": "code",
   "execution_count": 22,
   "id": "6d7ed19d",
   "metadata": {},
   "outputs": [
    {
     "name": "stdout",
     "output_type": "stream",
     "text": [
      "(-0.9609856326054423+0.19362914690552147j)\n"
     ]
    },
    {
     "data": {
      "image/png": "[encoded data removed]",
      "text/plain": [
       "<Figure size 432x288 with 1 Axes>"
      ]
     },
     "metadata": {
      "needs_background": "light"
     },
     "output_type": "display_data"
    },
    {
     "data": {
      "image/png": "[encoded data removed]",
      "text/plain": [
       "<Figure size 432x288 with 1 Axes>"
      ]
     },
     "metadata": {
      "needs_background": "light"
     },
     "output_type": "display_data"
    }
   ],
   "source": [
    "z = np.linspace(0, 1.5* f, 1000)\n",
    "qL=get_new_q(M_f(1),q1)\n",
    "print(qL)\n",
    "Rs=[]\n",
    "ws=[]\n",
    "R=f\n",
    "w=1e-3\n",
    "for i in range(len(z)):\n",
    "    if i==0:\n",
    "        q=get_new_q(M_d(z[i]),qL)\n",
    "        R=get_R_from_q(q,1e-3,lam)\n",
    "        Rs.append(R.real)\n",
    "        w=get_R_from_q(q,f,lam)\n",
    "        ws.append(np.abs(w))\n",
    "    else:\n",
    "        q=get_new_q(M_d(z[i]-z[i-1]),q)\n",
    "        R=get_R_from_q(q,w,lam)\n",
    "        Rs.append(R.real)\n",
    "        w=get_R_from_q(q,R,lam)\n",
    "        ws.append(np.abs(w))\n",
    "plt.plot(z,np.array(Rs))\n",
    "plt.show()\n",
    "\n",
    "plt.plot(z,np.array(np.abs(ws)))\n",
    "plt.show()\n",
    "    "
   ]
  },
  {
   "attachments": {
    "image-3.png": {
     "image/png": "[encoded data removed]"
    },
    "image-4.png": {
     "image/png": "[encoded data removed]"
    }
   },
   "cell_type": "markdown",
   "id": "76ba3292",
   "metadata": {},
   "source": [
    "Calculate `R` values and `w` values for the propagated beam sampled on `z` and plot them in two separate plots. Interpret your plots. Hint: use `M_d` from before. You should get plots tha look like these:\n",
    "![image-3.png](attachment:image-3.png)\n",
    "![image-4.png](attachment:image-4.png)\n"
   ]
  },
  {
   "cell_type": "markdown",
   "id": "470c44b8",
   "metadata": {},
   "source": [
    "v) Find the z-value at the waist and compare to the formula from the notes \n",
    "### $f'=\\frac{f}{1+(\\frac{f}{z_{R,1}})^2}$,\n",
    "where $z_{R,1}$ is the Rayleigh Range for the `q1` beam. "
   ]
  },
  {
   "cell_type": "code",
   "execution_count": 23,
   "id": "3afe4191",
   "metadata": {},
   "outputs": [
    {
     "name": "stdout",
     "output_type": "stream",
     "text": [
      "0.960960960960961 0.9609856326054423\n"
     ]
    }
   ],
   "source": [
    "def f_dash(f,zR):\n",
    "    return f/(1+(f/zR)**2)\n",
    "def zR(w0,lam):\n",
    "    return np.pi*w0**2/lam\n",
    "#waist is at \n",
    "#print(np.where(ws==min(ws)))\n",
    "zw=z[np.where(ws==min(ws))[0][0]]\n",
    "print(zw,f_dash(1,zR(1e-3,lam)))\n",
    "#agreement"
   ]
  },
  {
   "cell_type": "markdown",
   "id": "7f3deef2",
   "metadata": {},
   "source": [
    "**c)** Now that you satisified your functions are working properly, you are ready to simulate round trips of a Gaussian Beam in the **half-symmetric-confocal** cavity defined in the `cavities` dictionary above.\n",
    "\n",
    "Since the field must reproduce itself after each round trip, there is only one possible Gaussian $TEM_{00}$ mode that can oscillate in this cavity. This mode can be obtained analytically (e.g. see Silfvast \"Laser Fundamentals\" 2nd ed, pp.430-2)."
   ]
  },
  {
   "cell_type": "markdown",
   "id": "b8cd0075",
   "metadata": {},
   "source": [
    "i) Assume the round-trips start at the plane mirror. Hint: you'll need to swap `r1, r2` around from the way they were defined above for this cavity.\n",
    "\n",
    "The allowed Gaussian beam must have its waist at the plane mirror (so the wavefront ROC matches the mirror ROC) with a size given by $w_0^2 = \\frac{\\lambda}{\\pi}\\sqrt{d r_2\\left(1-d/r_2\\right)}$\n",
    "\n",
    "Set `lam = 633e-9`. By applying the round-trip ABCD matrix repeatedly, say 20 times, to the initial q-parameter, show that the beam size at the plane mirror maintains a constant value of $w_0$ from above."
   ]
  },
  {
   "cell_type": "markdown",
   "id": "c9304d61",
   "metadata": {},
   "source": [
    "ii) Make a very small change, e.g. 1 part in a million, to the initial beam size at the plane mirror and show that the field does not reproduce itself each round trip and is thus not the allowed mode of the cavity."
   ]
  }
 ],
 "metadata": {
  "kernelspec": {
   "display_name": "Python 3 (ipykernel)",
   "language": "python",
   "name": "python3"
  },
  "language_info": {
   "codemirror_mode": {
    "name": "ipython",
    "version": 3
   },
   "file_extension": ".py",
   "mimetype": "text/x-python",
   "name": "python",
   "nbconvert_exporter": "python",
   "pygments_lexer": "ipython3",
   "version": "3.9.0"
  }
 },
 "nbformat": 4,
 "nbformat_minor": 5
}
