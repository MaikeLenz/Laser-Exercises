{
 "cells": [
  {
   "cell_type": "markdown",
   "id": "1d445bd8",
   "metadata": {},
   "source": [
    "# Coding Exercise #3 *Laser amplifier with saturation* Solutions"
   ]
  },
  {
   "cell_type": "markdown",
   "id": "5b1d1e24",
   "metadata": {},
   "source": [
    "In this exercise, you will simulate the growth of the intensity of a laser beam propagating through a laser amplifier in the presence of gain saturation.\n",
    "\n",
    "In the lectures, we saw that a laser beam passing through a pumped gain medium (an *amplifier*) does not experience unbounded exponential growth.\n",
    "\n",
    "As the beam becomes more intense, it decreases the population inversion through stimulated emission and the hence the gain is reduced.\n",
    "\n",
    "The fact that the gain experienced by the beam depends on the beam intensity and the intensity depends on the gain, we end up with the following nonlinear differential equation\n",
    "\n",
    "\n",
    "## $\\frac{dI\\left(z\\right)}{dz}=\\gamma\\left(I\\left(z\\right)\\right)I\\left(z\\right)$\n",
    "\n",
    "Here, the beam is propagating in the $z$ direction and $I\\left(z\\right)$, $\\gamma\\left(z\\right)$ are the beam intensity and exponential gain coefficient at position $z$, respectively.\n",
    "\n",
    "This differential equation cannot be solved analytically in the general case.\n"
   ]
  },
  {
   "cell_type": "markdown",
   "id": "6870f59c",
   "metadata": {},
   "source": [
    "## A note about units\n",
    "\n",
    "Provided we are consistent, it doesn't matter which units we use for intensity. To keep things general, we will use arbitray units."
   ]
  },
  {
   "cell_type": "markdown",
   "id": "f6557cf4",
   "metadata": {},
   "source": [
    "## Simulation Tasks\n"
   ]
  },
  {
   "cell_type": "markdown",
   "id": "aadf836e",
   "metadata": {},
   "source": [
    "**a)** A laser amplifier of length $L=10$ cm has a small signal gain coefficient of $\\gamma_0 = 1$ /cm (at a certain level of pumping) and a saturation intensity $I_{sat}=100$ (arb. units) \n",
    "\n",
    "A beam of $I_{in}=1$ is applied to the input of the amplifier. \n",
    "\n",
    "Use `odeint` from `scipy.integrate` to solve the differential equation above (see Coding Exercise 2 for some tips on `odeint`).\n",
    "\n",
    "i) Using a log vertical scale, plot $I(z)$ and $I_{unsat}(z)$ as a function of $z$ in the amplifier, where $I_{unsat}(z) = I_{in}\\exp(\\gamma_0 z)$ represents the intensity growth of the beam in the absence of saturation. Record your observations.\n",
    "\n",
    "Hints: you will need to define funcions for $\\gamma(I)$ and for the LHS of the differential equation above.\n",
    "\n",
    " "
   ]
  },
  {
   "cell_type": "markdown",
   "id": "cf28b11f",
   "metadata": {},
   "source": [
    "ii) Plot $\\gamma$ and $\\gamma_0$ as a function of z in the amplifier. Explain the behaviour at $z=0$. Record your observations.\n",
    "\n",
    "Hint: remember $\\gamma_0$ is a constant for a given amplifier at a given pumping rate."
   ]
  },
  {
   "cell_type": "markdown",
   "id": "7fdb8b7a",
   "metadata": {},
   "source": [
    "ii) Calculate the intensity at the output of the amplifier $I_{out}$; and the saturated, $G$,  and unsaturated gain, $G_0$."
   ]
  },
  {
   "cell_type": "markdown",
   "id": "e6976bae",
   "metadata": {},
   "source": [
    "iii) Check your answer for $I_{out}$ using the appropriate formula from Lecture 4.6.1"
   ]
  },
  {
   "cell_type": "markdown",
   "id": "6bd59458-a393-4fad-8396-e7e707cd75af",
   "metadata": {},
   "source": [
    "### Extension"
   ]
  },
  {
   "cell_type": "markdown",
   "id": "4cf0d515",
   "metadata": {},
   "source": [
    "**b)** Before doing any more simulations, think carefully about how the output intensity from an amplifier varies with input intensity over a large range of input intensties (from $I_{in}\\ll I_{sat}$ to $I_{in}\\gg I_{sat}$). Plot a sketch by hand to record your predictions."
   ]
  },
  {
   "cell_type": "markdown",
   "id": "95f99812-cc6d-40e6-8680-2faa58eabf72",
   "metadata": {},
   "source": [
    "**c)** Now carry out a simulation to test your prediction. Make a log-log plot of $I_{out}$ vs $I_{in}$ for $I_{in}$ in the range 1e-3 to 1e-5 (use `np.logspace`) for $\\gamma_0=0.5$ /cm and $I_{sat}=100$. On the same axes, plot the extreme cases you thought about in the previous part. \n",
    "\n",
    "Were your predictions correct? If not, use the simulations to improve your understanding.\n",
    "\n",
    "Hint: You can loop over your `Iin` array and calculate the output intensity $I(z=L)$ at each iteration. Alternatively, a more elegant approach is to pass the `Iin` array directly to `odeint` which will return a 2D array of $I(z)$ vs $I_{in}$. You will then need the extract the `Iout` array from this, corresponding to $I(z=L)$."
   ]
  }
 ],
 "metadata": {
  "kernelspec": {
   "display_name": "Python 3 (ipykernel)",
   "language": "python",
   "name": "python3"
  },
  "language_info": {
   "codemirror_mode": {
    "name": "ipython",
    "version": 3
   },
   "file_extension": ".py",
   "mimetype": "text/x-python",
   "name": "python",
   "nbconvert_exporter": "python",
   "pygments_lexer": "ipython3",
   "version": "3.9.0"
  }
 },
 "nbformat": 4,
 "nbformat_minor": 5
}
