{
 "cells": [
  {
   "cell_type": "markdown",
   "metadata": {},
   "source": [
    "# Coding Exercise #3 *Laser amplifier with saturation*"
   ]
  },
  {
   "cell_type": "markdown",
   "metadata": {},
   "source": [
    "In this exercise, you will simulate the growth of the intensity of a laser beam propagating through a laser amplifier in the presence of gain saturation.\n",
    "\n",
    "In the lectures, we saw that a laser beam passing through a pumped amplifying medium (amplifier) does not experience unbounded exponential growth.\n",
    "\n",
    "As the beam becomes more intense, it decreases the population inversion through stimulated emission and the hence the gain is reduced.\n",
    "\n",
    "The fact that the gain experienced by the beam depends on the beam intensity and the intensity depends on the gain, we end up with the following nonlinear differential equation\n",
    "\n",
    "\n",
    "## $\\frac{dI\\left(z\\right)}{dz}=\\gamma\\left(I\\left(z\\right)\\right)I\\left(z\\right)$\n",
    "\n",
    "Here, the beam is propagating in the $z$ direction and $I\\left(z\\right)$, $\\gamma\\left(z\\right)$ are the beam intensity and exponential gain coefficient at position $z$, respectively.\n",
    "\n",
    "This differential equation cannot be solved analytically in the general case.\n"
   ]
  },
  {
   "cell_type": "markdown",
   "metadata": {},
   "source": [
    "## A note about units\n",
    "\n",
    "Provided we are consistent, it doesn't matter which units we use for intensity. To keep things general, we will use arbitray units."
   ]
  },
  {
   "cell_type": "markdown",
   "metadata": {},
   "source": [
    "## Simulation Tasks\n"
   ]
  },
  {
   "cell_type": "markdown",
   "metadata": {},
   "source": [
    "**a)** A laser amplifier of length $L=10$ cm has a small signal gain coefficient of $\\gamma_0 = 1$ /cm (at a certain level of pumping) and a saturation intensity $I_{sat}=100$ (arb. units) \n",
    "\n",
    "A beam of $I_{in}=1$ is applied to the input of the amplifier. \n",
    "\n",
    "Use `odeint` from `scipy.integrate` to solve the differential equation above.\n",
    "\n",
    "i) Using a log vertical scale, plot $I(z)$ and the $I_{unsat}(z)$ as a function of $z$ in the amplifier, where $I_{unsat}(z) = I_{in}\\exp(\\gamma_0 z)$ represents the intensity growth of the beam in the absence of saturation.\n",
    "\n",
    " "
   ]
  },
  {
   "cell_type": "code",
   "execution_count": 14,
   "metadata": {},
   "outputs": [],
   "source": [
    "from scipy.integrate import odeint\n",
    "import numpy as np\n",
    "\n",
    "def gamma(I, gamma_0, I_sat):\n",
    "    return gamma_0/(1 + (I/I_sat))\n",
    "\n",
    "def dIdz(I, z, gamma_0, I_sat):\n",
    "    return gamma(I, gamma_0, I_sat)*I\n",
    "\n",
    "L = 10 #(cm)\n",
    "gamma_0 = 1 #(/cm)\n",
    "I_sat = 100\n",
    "I_in = 1"
   ]
  },
  {
   "cell_type": "code",
   "execution_count": 15,
   "metadata": {},
   "outputs": [],
   "source": [
    "z = np.arange(0, 10, 0.1)\n",
    "\n",
    "I = odeint(dIdz, I_in, z, args=(gamma_0, I_sat))"
   ]
  },
  {
   "cell_type": "code",
   "execution_count": 16,
   "metadata": {},
   "outputs": [],
   "source": [
    "def I_unsat(z, I_in, gamma_0):\n",
    "    return I_in*np.exp(gamma_0*z)"
   ]
  },
  {
   "cell_type": "code",
   "execution_count": 17,
   "metadata": {},
   "outputs": [
    {
     "data": {
      "text/plain": [
       "Text(0, 0.5, 'Intensity')"
      ]
     },
     "execution_count": 17,
     "metadata": {},
     "output_type": "execute_result"
    },
    {
     "data": {
      "image/png": "[encoded data removed]",
      "text/plain": [
       "<Figure size 432x288 with 1 Axes>"
      ]
     },
     "metadata": {
      "needs_background": "light"
     },
     "output_type": "display_data"
    }
   ],
   "source": [
    "import matplotlib.pyplot as plt\n",
    "\n",
    "plt.plot(z, I, label='I')\n",
    "plt.plot(z, I_unsat(z, I_in, gamma_0), label='I_unsat')\n",
    "plt.legend()\n",
    "plt.yscale('log')\n",
    "plt.xlabel('z (cm)')\n",
    "plt.ylabel('Intensity')"
   ]
  },
  {
   "cell_type": "markdown",
   "metadata": {},
   "source": [
    "ii) Plot $\\gamma$ and $\\gamma_0$ as a function of z in the amplifier."
   ]
  },
  {
   "cell_type": "code",
   "execution_count": 5,
   "metadata": {},
   "outputs": [
    {
     "data": {
      "text/plain": [
       "Text(0, 0.5, 'gamma')"
      ]
     },
     "execution_count": 5,
     "metadata": {},
     "output_type": "execute_result"
    },
    {
     "data": {
      "image/png": "[encoded data removed]",
      "text/plain": [
       "<Figure size 432x288 with 1 Axes>"
      ]
     },
     "metadata": {
      "needs_background": "light"
     },
     "output_type": "display_data"
    }
   ],
   "source": [
    "# Can't find the equation for gamma_0 in the notes\n",
    "\n",
    "plt.plot(z, gamma(I, gamma_0, I_sat))\n",
    "plt.xlabel('z (cm)')\n",
    "plt.ylabel('gamma')"
   ]
  },
  {
   "cell_type": "markdown",
   "metadata": {},
   "source": [
    "ii) Calculate the intensity at the output of the amplifier $I_{out}$; and the saturated, $G$,  and unsaturated gain, $G_0$."
   ]
  },
  {
   "cell_type": "code",
   "execution_count": 6,
   "metadata": {},
   "outputs": [
    {
     "name": "stdout",
     "output_type": "stream",
     "text": [
      "I_out = 401.4833811776435\n"
     ]
    }
   ],
   "source": [
    "# I_out = I(z=L)\n",
    "\n",
    "z = np.arange(0, 10.1, 0.1)\n",
    "I = odeint(dIdz, I_in, z, args=(gamma_0, I_sat))\n",
    "\n",
    "#print(z[-1])\n",
    "I_out = I[-1]\n",
    "print('I_out = {}'.format(I_out[0]))"
   ]
  },
  {
   "cell_type": "code",
   "execution_count": 7,
   "metadata": {},
   "outputs": [
    {
     "name": "stdout",
     "output_type": "stream",
     "text": [
      "G = 401.4833811776435\n",
      "G_0 = 22026.465794806718\n"
     ]
    }
   ],
   "source": [
    "G = I_out[0]/I_in\n",
    "G_0 = np.exp(gamma_0*L)\n",
    "\n",
    "print('G = {}'.format(G))\n",
    "print('G_0 = {}'.format(G_0))"
   ]
  },
  {
   "cell_type": "markdown",
   "metadata": {},
   "source": [
    "iii) Check your answer for $I_{out}$ using the appropriate formula from Lecture 4.6.1"
   ]
  },
  {
   "cell_type": "code",
   "execution_count": 8,
   "metadata": {},
   "outputs": [
    {
     "name": "stdout",
     "output_type": "stream",
     "text": [
      "I_out = 401.48338594250356\n"
     ]
    }
   ],
   "source": [
    "I_out_2 = (G/(G-1))*np.log(G_0/G)*I_sat\n",
    "\n",
    "print('I_out = {}'.format(I_out_2))"
   ]
  },
  {
   "cell_type": "markdown",
   "metadata": {},
   "source": [
    "### Extension"
   ]
  },
  {
   "cell_type": "markdown",
   "metadata": {},
   "source": [
    "**b)** How does the output intensity vary with input intensity over a large range of input intensties (from $I_{in}\\ll I_{sat}$ to $I_{in}\\gg I_{sat}$)? Think carefully about the behaviour at the extremes. Plot a sketch by hand to record your predictions."
   ]
  },
  {
   "cell_type": "code",
   "execution_count": null,
   "metadata": {},
   "outputs": [],
   "source": [
    "# For I_in << I_sat, (1/(1-G))*np.log(G_0/G) << 1 \n",
    "# Therefore gain is large so I_out is large?\n",
    "\n",
    "# For I_in >> I_sat, gain coefficient is small so I_out is approximately the same as I_in"
   ]
  },
  {
   "cell_type": "markdown",
   "metadata": {},
   "source": [
    "**c)** Now carry out a simulation to test your prediction. Make a log-log plot of $I_{out}$ vs $I_{in}$ for $I_{in}$ in the range 1e-3 to 1e-5 (use `np.logspace`) for $\\gamma_0=0.5$ /cm and $I_{sat}=100$. On the same axes, plot the extreme cases you thought about in the previous part. Were your predictions correct? If not, use the simulations to improve your understanding."
   ]
  },
  {
   "cell_type": "code",
   "execution_count": 9,
   "metadata": {},
   "outputs": [],
   "source": [
    "I_in_array = np.logspace(-3, -5, 100)\n",
    "\n",
    "#print(I_in_array)\n",
    "\n",
    "z = np.arange(0, 10.1, 0.1)\n",
    "gamma_0 = 0.5\n",
    "I_sat = 100\n",
    "\n",
    "I_out_array = []\n",
    "for i in range(len(I_in_array)):\n",
    "    I = odeint(dIdz, I_in_array[i], z, args=(gamma_0, I_sat))\n",
    "    I_out_array.append(I[-1])"
   ]
  },
  {
   "cell_type": "code",
   "execution_count": 10,
   "metadata": {},
   "outputs": [],
   "source": [
    "# For I_in << I_sat\n",
    "I_in_small = 10**(-5) # Same as start of plot above\n",
    "I = odeint(dIdz, I_in_small, z, args=(gamma_0, I_sat))\n",
    "I_out_small = I[-1]\n",
    "\n",
    "# For I_in >> I_sat\n",
    "I_in_large = 10000\n",
    "I = odeint(dIdz, I_in_large, z, args=(gamma_0, I_sat))\n",
    "I_out_large = I[-1]"
   ]
  },
  {
   "cell_type": "code",
   "execution_count": 11,
   "metadata": {},
   "outputs": [
    {
     "data": {
      "text/plain": [
       "Text(0, 0.5, 'I_out')"
      ]
     },
     "execution_count": 11,
     "metadata": {},
     "output_type": "execute_result"
    },
    {
     "data": {
      "image/png": "[encoded data removed]",
      "text/plain": [
       "<Figure size 432x288 with 1 Axes>"
      ]
     },
     "metadata": {
      "needs_background": "light"
     },
     "output_type": "display_data"
    }
   ],
   "source": [
    "plt.plot(I_in_array, I_out_array)\n",
    "plt.yscale('log')\n",
    "plt.xscale('log')\n",
    "plt.xlabel('I_in')\n",
    "plt.ylabel('I_out')\n",
    "\n",
    "#plt.plot(I_in_large, I_out_large, color='red')\n",
    "# Can't plot this as it is so far off the scale"
   ]
  },
  {
   "cell_type": "code",
   "execution_count": null,
   "metadata": {},
   "outputs": [],
   "source": [
    "# As I_in increases, I_out also increases but this plot only shows I_in << I_sat"
   ]
  },
  {
   "cell_type": "code",
   "execution_count": 12,
   "metadata": {},
   "outputs": [
    {
     "data": {
      "text/plain": [
       "Text(0, 0.5, 'I_out')"
      ]
     },
     "execution_count": 12,
     "metadata": {},
     "output_type": "execute_result"
    },
    {
     "data": {
      "image/png": "[encoded data removed]",
      "text/plain": [
       "<Figure size 432x288 with 1 Axes>"
      ]
     },
     "metadata": {
      "needs_background": "light"
     },
     "output_type": "display_data"
    }
   ],
   "source": [
    "# For I_in >> I_sat, \n",
    "\n",
    "I_in_array = np.logspace(2, 4, 100)\n",
    "\n",
    "z = np.arange(0, 10.1, 0.1)\n",
    "gamma_0 = 0.5\n",
    "I_sat = 100\n",
    "\n",
    "I_out_array = []\n",
    "for i in range(len(I_in_array)):\n",
    "    I = odeint(dIdz, I_in_array[i], z, args=(gamma_0, I_sat))\n",
    "    I_out_array.append(I[-1])\n",
    "    \n",
    "plt.plot(I_in_array, I_out_array)\n",
    "plt.yscale('log')\n",
    "plt.xscale('log')\n",
    "plt.xlabel('I_in')\n",
    "plt.ylabel('I_out')\n",
    "\n",
    "# Still increasing for larger I_in? This doesn't seem right"
   ]
  },
  {
   "cell_type": "code",
   "execution_count": null,
   "metadata": {},
   "outputs": [],
   "source": []
  }
 ],
 "metadata": {
  "kernelspec": {
   "display_name": "Python 3",
   "language": "python",
   "name": "python3"
  },
  "language_info": {
   "codemirror_mode": {
    "name": "ipython",
    "version": 3
   },
   "file_extension": ".py",
   "mimetype": "text/x-python",
   "name": "python",
   "nbconvert_exporter": "python",
   "pygments_lexer": "ipython3",
   "version": "3.7.3"
  }
 },
 "nbformat": 4,
 "nbformat_minor": 5
}
