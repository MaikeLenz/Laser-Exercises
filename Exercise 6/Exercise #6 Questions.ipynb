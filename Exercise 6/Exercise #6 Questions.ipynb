{
 "cells": [
  {
   "cell_type": "markdown",
   "id": "c3e3fa64",
   "metadata": {},
   "source": [
    "# Coding Exercise #6 *Modelocking, time-bandwidth-products, and pulse broadening due to material dispersion.*"
   ]
  },
  {
   "cell_type": "markdown",
   "id": "0c26093b",
   "metadata": {},
   "source": [
    "### 6.1 Modelocking"
   ]
  },
  {
   "cell_type": "markdown",
   "id": "f75bbf46",
   "metadata": {},
   "source": [
    "**a)** Write a function `Et_LM(t, d, m, A, phi)` that returns the field, sampled on time axis `t`, of the `m`th longitudinal mode (LM) of a cavity of length `d`. `A` and `phi` are the amplitude and phase offset of the LM, respectively. You may assume that the LM is a cw wave."
   ]
  },
  {
   "cell_type": "markdown",
   "id": "be20c0c0",
   "metadata": {},
   "source": [
    "**b)** Write a function `Et_LM_sum(t, d, m1, m2, phi=None)` which returns the coherent superposition (sum) of all LMs in the `m` range `m1` to `m2` for a cavity of length `d`, where `m` is the LM mode number. If the optional argument `phi` is omitted, then the phase offset of each LM should bet set to a random number in the range $0-2\\pi$ radians, else the phase offset should be set to `phi`. You may assume that each LM has an amplitude of 1."
   ]
  },
  {
   "cell_type": "markdown",
   "id": "130a9b65",
   "metadata": {},
   "source": [
    "**c)** Consider a Nd:YAG laser with a cavity length of $1\\,$m. LMs in the range $\\pm 1\\,$nm of its gain centre ($1064\\,$nm) are lasing. Plot the laser ouptput intensity $I(t)\\propto|E(t)|^2$ in the time-interval $0-30\\,$ns, using ~10000 points to ensure adequate sampling for (i) random phase offsets between all LMs (ii) constant phase-offset between all LMs, i.e. *mode-locked*. You may assume all LMs have an amplitude of 1 and the output intensity can be displayed in arbitrary units.\n",
    "\n",
    "Record your results."
   ]
  },
  {
   "cell_type": "markdown",
   "id": "622edbb0",
   "metadata": {},
   "source": [
    "**d)** Show that the pulse spacing in the modelocked train is given by $T_{rep}=2d/c$.\n",
    "\n",
    "Hint: you can do this by inspecting the plot carefully, or write some code to find the peak positions, eg. using `find_peaks` from `scipy.signal`."
   ]
  },
  {
   "cell_type": "markdown",
   "id": "69a6ff7a",
   "metadata": {},
   "source": [
    "**e)** Recalculate and plot the mode-locked output but now zoom in on a single peak in the pulse train and use a new time axis to ensure the pulse has ~200 samples."
   ]
  },
  {
   "cell_type": "markdown",
   "id": "1f624360",
   "metadata": {},
   "source": [
    "**f)** Show the width of the peaks in the mode-locked train is ~$\\frac{2\\pi}{N\\Delta\\omega_m}$, where $N$ is the number of LMs involved and $\\Delta\\omega_m$ is the LM spacing. \n",
    "\n",
    "Hint: You could reuse your `get_width` function from Exercise # 1.\n",
    "\n",
    "**NOTE**: There is an error in the lecture notes for this formula! The $2\\pi$ is missing in the numerator - sorry!"
   ]
  },
  {
   "cell_type": "markdown",
   "id": "3420fafd",
   "metadata": {},
   "source": [
    "### 6.2 Time-Bandwidth Products"
   ]
  },
  {
   "cell_type": "markdown",
   "id": "053aee2b",
   "metadata": {},
   "source": [
    "**a)** Write functions `Et_gauss(t, E0, dt_fwhm, lambda0)` and `Et_sech(t, E0, dt_fwhm, lambda0)` that return the electric fields of a transform-limited gaussian and sech pulse, respectively, where `t` is the time axis which the field will be sampled on, `E0` is the peak field, `dt_fwhm` is the fwhm duration for the intensity pulse $I(t)$, and `lambda0` is the centre wavelength.\n",
    "\n",
    "Plot the field and the intensity as a function of time for $10\\,$fs pulses with a centre wavelength of  $800\\,$nm for both the gaussian and sech cases."
   ]
  },
  {
   "cell_type": "markdown",
   "id": "a0f1ffdb",
   "metadata": {},
   "source": [
    "**b)** By taking the fourier transform of a $10\\,$fs FWHM tranform-limited laser pulse, show that its time-bandwidth product $\\Delta \\nu \\Delta t\\approx 0.44$.\n",
    "\n",
    "Repeat for a sech pulse to show its time-bandwidth product $\\Delta \\nu \\Delta t\\approx 0.32$.\n",
    "\n",
    "**Hints**\n",
    "\n",
    "* You can use `scipy.fft` for this. Feel free to use the function below which uses `scipy.fft` or write your own!\n",
    "* use a time axis from -100 to 100 fs with 1024 points.\n",
    "* If you don't get an accurate answer, it might be because you don't have enough points in your curves to measure the FWHMs accurately, e.g. using `get_width`. If this is the case, you can use `np.interp` to make an interpolating function to your curves which you can then sample more finely.\n"
   ]
  },
  {
   "cell_type": "code",
   "execution_count": 1,
   "id": "1df2a7b5",
   "metadata": {},
   "outputs": [],
   "source": [
    "from scipy.fft import fft, fftfreq, fftshift\n",
    "def get_intensity_spectrum(t, Et):\n",
    "    \"\"\" \n",
    "    Uses scipy.fft to calculate the intensity spectrum of a laser pulse E(t). \n",
    "    `t` is time axis, `Et` is (complex) laser electric field sampled on t\n",
    "    returns tuple (`omega`, `I`), where `omega` is angular frequency and `I` is spectral intensity.\n",
    "    \n",
    "    Tip: use 1024 or 2048 time points\n",
    "    \"\"\"\n",
    "    assert len(t) == len(Et)\n",
    " \n",
    "    t = np.array(t)\n",
    "    Et = np.array(Et)\n",
    "    \n",
    "    N = len(t) # num points\n",
    "    dt = t[1]-t[0] # time step\n",
    "    f = fftfreq(N, dt) # frequency axis\n",
    "    f = fftshift(f) # shift zero-frequency component to center of spectrum\n",
    "    omega = 2 * np.pi * f # angular frequency axis\n",
    "\n",
    "    Ef = fft(Et) # the fft\n",
    "    Ef = fftshift(Ef) # shift zero-frequency component to center of spectrum\n",
    "    I = np.abs(Ef)**2\n",
    "    I /= max(I)\n",
    "   \n",
    "    return omega, I"
   ]
  },
  {
   "cell_type": "markdown",
   "id": "d6daf10f",
   "metadata": {},
   "source": [
    "### 6.3 Pulse broadening due to material dispersion"
   ]
  },
  {
   "cell_type": "markdown",
   "id": "426df90e",
   "metadata": {},
   "source": [
    "**a)** Write a function `n_fused_silica(lam)` that returns the refractive index of \"fused silica\" (a type of glass commonly used in optics) as a function of the wavelength `lam` in metres.\n",
    "\n",
    "The formula can be found at \n",
    "[here](https://refractiveindex.info/?shelf=glass&book=fused_silica&page=Malitson). If you scroll down to the bottom of the page you will see `Expressions for n`, note that the wavelength is in microns."
   ]
  },
  {
   "cell_type": "markdown",
   "id": "e6fc4773",
   "metadata": {},
   "source": [
    "**b)** Check your function against the calculator on the webpage."
   ]
  },
  {
   "cell_type": "markdown",
   "id": "a89e22da",
   "metadata": {},
   "source": [
    "**c)** Create a `numpy` array `omega` that covers the wavelength range $3000-200\\,$nm in 1000 steps. Then create a `numpy` array `n` that is the refractive index of fused silica sampled on `omega`. Plot `n` vs `omega`."
   ]
  },
  {
   "cell_type": "markdown",
   "id": "3eed1933",
   "metadata": {},
   "source": [
    "**d)** Use the function `dydx` below to generate `numpy` arrays `dndomega` and `d2ndomega2` that are the first and second derivative of the refractive index, respectively, versus `omega`. Plot `dndomega` vs omega and `d2ndomega2` vs `omega` on separate plots."
   ]
  },
  {
   "cell_type": "code",
   "execution_count": 2,
   "id": "54d64437",
   "metadata": {},
   "outputs": [],
   "source": [
    "def dydx(x, y):\n",
    "    \"\"\" returns derivative with same shape as y, as opposed to np.diff which returns a shorter array \"\"\"\n",
    "    assert len(x) == len(y)\n",
    "    x = np.array(x)\n",
    "    y = np.array(y)\n",
    "    dx = x[1] - x[0]\n",
    "    return np.gradient(y, dx)"
   ]
  },
  {
   "cell_type": "markdown",
   "id": "b1d20e6d",
   "metadata": {},
   "source": [
    "**e)** Construct a `numpy` array `vg` for the group velocity of light in fused silica, sampled on `omega` using the formula from the lecture notes:\n",
    "\n",
    "### $v_g(\\omega) =\\frac{c}{n(\\omega)+\\omega \\frac{dn(\\omega)}{d\\omega}}$.\n",
    "\n",
    "Plot `vg` versus `omega` and record your observations."
   ]
  },
  {
   "cell_type": "markdown",
   "id": "a38e5df6",
   "metadata": {},
   "source": [
    "**f)** Now create a `numpy` array `GVD` which is the group velocity dispersion sampled on `omega`. The GVD is defined as:\n",
    "\n",
    "### $GVD = \\frac{dv_g^{-1}}{d\\omega}$.\n",
    "\n",
    "Plot `GVD` in the commonly-used units of fs$^2$/mm vs `omega`."
   ]
  },
  {
   "cell_type": "markdown",
   "id": "b66cad14",
   "metadata": {},
   "source": [
    "**g)** A transform-limited gaussian pulse of duration `dt_in` propagates through a distance `L` of material with a GVD of `GVD`. Write a function `dt_out(dt_in, L, GVD)` that returns the broadened pulse duration. The relevant formulae from the lecture notes are:\n",
    "\n",
    "### $\\Delta t_{spread} = L*GVD*\\Delta\\omega$\n",
    "### $\\Delta t_{out} = \\sqrt{\\Delta t_{in}^2 + \\Delta t_{spread}^2}$\n",
    "\n",
    "A $5\\,$fs transform-limited gaussian pulse propagating $1\\,$mm through a material with a GVD of $35\\,$fs$^2$/mm should be broadened to a duration of $20.0\\,$fs. Use this to check your function."
   ]
  },
  {
   "cell_type": "markdown",
   "id": "068f8779",
   "metadata": {},
   "source": [
    "## Extension"
   ]
  },
  {
   "cell_type": "markdown",
   "id": "f52cd95a",
   "metadata": {},
   "source": [
    "**h)** Because the GVD is frequency dependent, the amount of broadening that a laser pulse suffers depends on its centre frequency (centre wavelength).\n",
    "\n",
    "Calculate and plot the broadening factor $\\Delta t_{out}/\\Delta t_{in}$ versus $\\lambda_0$ in the range $200-3000\\,$nm for an initially $5\\,$fs transform-limited gaussian laser pulse propagating through $1\\,$mm of fused silica, where the $\\lambda_0$ is the centre wavelength of the pulse.\n",
    "\n",
    "Hint: To allow you to calculate the GVD at an arbitrary frequency, use the function `interpolate.interp1d` from `scipy` to make an interpolating function to your previous `numpy` array `GVD`."
   ]
  }
 ],
 "metadata": {
  "kernelspec": {
   "display_name": "Python 3 (ipykernel)",
   "language": "python",
   "name": "python3"
  },
  "language_info": {
   "codemirror_mode": {
    "name": "ipython",
    "version": 3
   },
   "file_extension": ".py",
   "mimetype": "text/x-python",
   "name": "python",
   "nbconvert_exporter": "python",
   "pygments_lexer": "ipython3",
   "version": "3.8.12"
  }
 },
 "nbformat": 4,
 "nbformat_minor": 5
}
