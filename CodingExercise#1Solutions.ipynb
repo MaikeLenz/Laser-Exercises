{
 "cells": [
  {
   "cell_type": "markdown",
   "id": "74b21b47",
   "metadata": {},
   "source": [
    "# Lasers Coding Exercise #1 Solutions"
   ]
  },
  {
   "cell_type": "markdown",
   "id": "85ee591b",
   "metadata": {},
   "source": [
    "## 1.1 Gaussian vs Lorentzian\n",
    "In this part of the exercise you will compare Gaussian and Lorentzian functions which crop up a frequently in laser physics e.g. as laser line profiles (spectral distributions), laser beam profiles (spatial distributions), and laser pulse shapes (temporal distributions).\n",
    "\n",
    "Here we consider line shapes which relates to the line broadening part of the course.\n"
   ]
  },
  {
   "cell_type": "markdown",
   "id": "6157cd10",
   "metadata": {},
   "source": [
    "**a)**\tWrite a function `get_width(x, y)` that determines the width of a single-peaked distribution defined by x points `x` and y points `y`. \n",
    "\n",
    "You could make `get_width` return the width at a given fraction of the peak height passed in a keyword argument, which defaults to a FWHM width. \n",
    "\n",
    "Test get_width with the distribution  `f(x) = exp(-4*ln(2)*x**2)` – it should return a FWHM of 1."
   ]
  },
  {
   "cell_type": "code",
   "execution_count": 4,
   "id": "cfbf20a8",
   "metadata": {},
   "outputs": [],
   "source": [
    "import numpy as np"
   ]
  },
  {
   "cell_type": "code",
   "execution_count": 1,
   "id": "189182c3",
   "metadata": {},
   "outputs": [],
   "source": [
    "def get_width(x, y, fraction=0.5):\n",
    "    \"\"\" \n",
    "    Returns the width of a single peaked distribution y sampled on x.\n",
    "    The width is calculated between the x points where y has dropped to fraction*peak_y_value.\n",
    "    eg. fraction = 0.5 --> returns FWHM\n",
    "    eg. fraction = 1/e --> returns 1/e FULL WIDTH\n",
    "    \"\"\"\n",
    "    d = y - (np.max(y)*fraction) \n",
    "    indexes = np.where(d > 0)[0] \n",
    "    return abs(x[indexes[-1]] - x[indexes[0]])"
   ]
  },
  {
   "cell_type": "code",
   "execution_count": 2,
   "id": "3d69dbe8",
   "metadata": {},
   "outputs": [],
   "source": [
    "def f(x):\n",
    "    \"\"\" A gaussian test function with FWHM = 1 \"\"\"\n",
    "    return np.exp(-4*np.log(2)*x**2)"
   ]
  },
  {
   "cell_type": "code",
   "execution_count": 5,
   "id": "6b6fdb22",
   "metadata": {},
   "outputs": [],
   "source": [
    "x = np.linspace(-2, 2, 1000) # I'm using a lot of samples here to make get_width more accurate "
   ]
  },
  {
   "cell_type": "code",
   "execution_count": 6,
   "id": "cd087005",
   "metadata": {},
   "outputs": [],
   "source": [
    "y = f(x)"
   ]
  },
  {
   "cell_type": "code",
   "execution_count": 7,
   "id": "4aab970b",
   "metadata": {},
   "outputs": [],
   "source": [
    "import matplotlib.pyplot as plt"
   ]
  },
  {
   "cell_type": "code",
   "execution_count": 8,
   "id": "152af1c0",
   "metadata": {},
   "outputs": [
    {
     "data": {
      "image/png": "[encoded data removed]",
      "text/plain": [
       "<Figure size 432x288 with 1 Axes>"
      ]
     },
     "metadata": {
      "needs_background": "light"
     },
     "output_type": "display_data"
    }
   ],
   "source": [
    "plt.plot(x,y)\n",
    "plt.show()"
   ]
  },
  {
   "cell_type": "code",
   "execution_count": 9,
   "id": "673e6b5a",
   "metadata": {},
   "outputs": [
    {
     "data": {
      "text/plain": [
       "0.9969969969969972"
      ]
     },
     "execution_count": 9,
     "metadata": {},
     "output_type": "execute_result"
    }
   ],
   "source": [
    "get_width(x,y)"
   ]
  },
  {
   "cell_type": "markdown",
   "id": "d12daf95",
   "metadata": {},
   "source": [
    "Was your solution more accurate?\n",
    "\n",
    "Aside: Let's use `get_width` to calculate the 1/e width of a function."
   ]
  },
  {
   "cell_type": "code",
   "execution_count": 10,
   "id": "1094b12e",
   "metadata": {},
   "outputs": [],
   "source": [
    "def f2(x):\n",
    "    \"\"\" 1/e full width of this function should be 2 \"\"\"\n",
    "    return np.exp(-x**2)"
   ]
  },
  {
   "cell_type": "code",
   "execution_count": 11,
   "id": "2174307f",
   "metadata": {},
   "outputs": [],
   "source": [
    "y2 = f2(x)"
   ]
  },
  {
   "cell_type": "code",
   "execution_count": 12,
   "id": "39cb2b68",
   "metadata": {},
   "outputs": [
    {
     "data": {
      "text/plain": [
       "1.9979979979979978"
      ]
     },
     "execution_count": 12,
     "metadata": {},
     "output_type": "execute_result"
    }
   ],
   "source": [
    "get_width(x, y2, fraction=1/np.e)"
   ]
  },
  {
   "cell_type": "markdown",
   "id": "7e29ba9e",
   "metadata": {},
   "source": [
    "This works too."
   ]
  },
  {
   "cell_type": "markdown",
   "id": "f3184e57",
   "metadata": {},
   "source": [
    "**b)**\tWrite two functions, `gaussian(w,…)` and `lorentzian(w,…)` using the equations for these distributions given in the lecture notes, where the first positional argument `w` is the angular frequency $\\omega$, and other parameters are passed-in as subsequent positional arguments."
   ]
  },
  {
   "cell_type": "code",
   "execution_count": 21,
   "id": "ee7225d9",
   "metadata": {},
   "outputs": [],
   "source": [
    "def gaussian(w, *args):\n",
    "    \"\"\" Implements a unit-area gaussian profile sampled on w. \"\"\"\n",
    "    w0, dw = args # centre frequency, FWHM\n",
    "    return (2 * np.sqrt(np.log(2) / np.pi) / dw ) * np. exp(- 4 * np.log(2) * (w - w0)**2 / dw**2)"
   ]
  },
  {
   "cell_type": "code",
   "execution_count": 22,
   "id": "72dde993",
   "metadata": {},
   "outputs": [],
   "source": [
    "def lorentzian(w, *args):\n",
    "    \"\"\" Implement a unit-area lorentzian function sampled on w. \"\"\"\n",
    "    w0, dw = args # centre frequency, FWHM\n",
    "    return (2 / np.pi / dw) * dw**2 / (dw**2 + 4 * (w - w0)**2) \n"
   ]
  },
  {
   "cell_type": "markdown",
   "id": "dce20d62",
   "metadata": {},
   "source": [
    "**c)**\tCreate a gaussian laser profile centred on $\\omega_0$=2.36 rad/fs (fs = femtosecond) with a width of $\\Delta\\omega$=0.5 rad/fs and also make a lorentzian profile with the same parameters. Compare these profiles by plotting them on the same axes, first on a linear scale and then on a log vertical scale. A log scale helps you compare the “wings” of the distributions. Record your observations.\n",
    "\n",
    "Note that $\\omega_0$=2.36 rad/fs corresponds to $\\lambda_0$ = 800 nm which is the centre wavelengh of titanium-doped-saphire lasers."
   ]
  },
  {
   "cell_type": "code",
   "execution_count": 23,
   "id": "16cd6bc7",
   "metadata": {},
   "outputs": [],
   "source": [
    "w0 = 2.36 # rad/fs\n",
    "dw = 0.5 # rad/fs"
   ]
  },
  {
   "cell_type": "code",
   "execution_count": 24,
   "id": "d6d63c43",
   "metadata": {},
   "outputs": [],
   "source": [
    "w = np.linspace(0, 5, 1000) # angular freq axis in rad/fs"
   ]
  },
  {
   "cell_type": "code",
   "execution_count": 25,
   "id": "da594f60",
   "metadata": {},
   "outputs": [],
   "source": [
    "y_gauss = gaussian(w, w0, dw)"
   ]
  },
  {
   "cell_type": "code",
   "execution_count": 26,
   "id": "7af460d2",
   "metadata": {},
   "outputs": [],
   "source": [
    "y_lorentz = lorentzian(w, w0, dw)"
   ]
  },
  {
   "cell_type": "code",
   "execution_count": 27,
   "id": "1c50aa4d",
   "metadata": {},
   "outputs": [
    {
     "data": {
      "image/png": "[encoded data removed]",
      "text/plain": [
       "<Figure size 432x288 with 1 Axes>"
      ]
     },
     "metadata": {
      "needs_background": "light"
     },
     "output_type": "display_data"
    }
   ],
   "source": [
    "plt.plot(w,y_gauss, label=\"gaussian\")\n",
    "plt.plot(w,y_lorentz, label=\"lorentzian\")\n",
    "plt.xlabel('angular freq (rad/fs)')\n",
    "plt.ylabel('intensity (arb.units)')\n",
    "plt.title(\"linear vertical scale\")\n",
    "plt.legend()\n",
    "plt.show()"
   ]
  },
  {
   "cell_type": "code",
   "execution_count": 19,
   "id": "d1e1cdec",
   "metadata": {},
   "outputs": [
    {
     "data": {
      "image/png": "[encoded data removed]",
      "text/plain": [
       "<Figure size 432x288 with 1 Axes>"
      ]
     },
     "metadata": {
      "needs_background": "light"
     },
     "output_type": "display_data"
    }
   ],
   "source": [
    "# The best way to make a log plot is to configure plt to have a log yscale like this:\n",
    "# plt.yscale(\"log\")\n",
    "# But for some unknown reason this causes my Jupyter notebook to raise a weird font error.\n",
    "# So instead I'm taking the log10 of the y-values...\n",
    "plt.plot(w, np.log10(y_gauss), label=\"gaussian\")\n",
    "plt.plot(w, np.log10(y_lorentz), label=\"lorentzian\")\n",
    "plt.xlabel('angular freq (rad/fs)')\n",
    "plt.ylabel('intensity (arb.units)')\n",
    "plt.title(\"log vertical scale\")\n",
    "plt.legend()\n",
    "plt.show()"
   ]
  },
  {
   "cell_type": "markdown",
   "id": "685f4c81",
   "metadata": {},
   "source": [
    "### Some observations\n",
    "The gaussian drops to zero faster than the lorentzian. The broader wings of the lorentzian is very obvious on the log scale.\n",
    "\n",
    "The peak height of the gaussian is greater than the lorentzian since both profiles are defined as having unit area."
   ]
  },
  {
   "cell_type": "markdown",
   "id": "6583f98b",
   "metadata": {},
   "source": [
    "**d)**\tUsing your `get_width` function, convince yourself that the distributions have the expected widths."
   ]
  },
  {
   "cell_type": "code",
   "execution_count": 28,
   "id": "75a899be",
   "metadata": {},
   "outputs": [
    {
     "data": {
      "text/plain": [
       "0.4954954954954953"
      ]
     },
     "execution_count": 28,
     "metadata": {},
     "output_type": "execute_result"
    }
   ],
   "source": [
    "get_width(w, y_gauss) "
   ]
  },
  {
   "cell_type": "code",
   "execution_count": 29,
   "id": "3456413b",
   "metadata": {},
   "outputs": [
    {
     "data": {
      "text/plain": [
       "0.4954954954954953"
      ]
     },
     "execution_count": 29,
     "metadata": {},
     "output_type": "execute_result"
    }
   ],
   "source": [
    "get_width(w, y_lorentz)"
   ]
  },
  {
   "cell_type": "markdown",
   "id": "4367d43d",
   "metadata": {},
   "source": [
    "Use f-strings to make a nice output with 2 signficant figures."
   ]
  },
  {
   "cell_type": "code",
   "execution_count": 30,
   "id": "a3840c80",
   "metadata": {},
   "outputs": [
    {
     "name": "stdout",
     "output_type": "stream",
     "text": [
      "width of gaussian = 0.50 rad/fs\n"
     ]
    }
   ],
   "source": [
    "print(f\"width of gaussian = {get_width(w, y_gauss):.2f} rad/fs\")"
   ]
  },
  {
   "cell_type": "code",
   "execution_count": 31,
   "id": "1286ff74",
   "metadata": {},
   "outputs": [
    {
     "name": "stdout",
     "output_type": "stream",
     "text": [
      "width of lorentzian = 0.50 rad/fs\n"
     ]
    }
   ],
   "source": [
    "print(f\"width of lorentzian = {get_width(w, y_lorentz):.2f} rad/fs\")"
   ]
  },
  {
   "cell_type": "markdown",
   "id": "0d7d7f72",
   "metadata": {},
   "source": [
    "Widths as expected, given accuracy limitations of `get_width`"
   ]
  },
  {
   "cell_type": "markdown",
   "id": "30316453",
   "metadata": {},
   "source": [
    "### Extension"
   ]
  },
  {
   "cell_type": "markdown",
   "id": "92c258c7",
   "metadata": {},
   "source": [
    "**e)**\tShow that the areas under the distributions have the expected values. \n",
    "\n",
    "i) Start by integrating the guassian and lorentzian functions directly using `quad` integration from `scipy.integrate` (you can set an infinite integration range using `np.inf`). \n",
    "\n",
    "ii) Then obtain the areas of the sampled data using `simpson` from `scipy.integrate`."
   ]
  },
  {
   "cell_type": "markdown",
   "id": "fec19225",
   "metadata": {},
   "source": [
    "#### i) Integrating the functions using `quad` over range  (-$\\infty$,$\\infty$) "
   ]
  },
  {
   "cell_type": "code",
   "execution_count": 32,
   "id": "3986c121",
   "metadata": {},
   "outputs": [],
   "source": [
    "from scipy.integrate import quad"
   ]
  },
  {
   "cell_type": "markdown",
   "id": "945ee1e7",
   "metadata": {},
   "source": [
    "BTW: To get help for any imported module, just use `help`:\n",
    "    \n",
    "`help(quad)`\n",
    "\n",
    "I'm not doing it in these exercises since the docstrings are rather long!"
   ]
  },
  {
   "cell_type": "code",
   "execution_count": 33,
   "id": "bab4a629",
   "metadata": {},
   "outputs": [
    {
     "data": {
      "text/plain": [
       "(1.0000000000000044, 1.4788960345451828e-10)"
      ]
     },
     "execution_count": 33,
     "metadata": {},
     "output_type": "execute_result"
    }
   ],
   "source": [
    "quad(gaussian, -np.inf, np.inf, args=(w0,dw)) # returns tuple: area, error"
   ]
  },
  {
   "cell_type": "code",
   "execution_count": 34,
   "id": "5be2b148",
   "metadata": {},
   "outputs": [
    {
     "data": {
      "text/plain": [
       "(1.0, 1.0561402256672172e-10)"
      ]
     },
     "execution_count": 34,
     "metadata": {},
     "output_type": "execute_result"
    }
   ],
   "source": [
    "quad(lorentzian, -np.inf, np.inf, args=(w0,dw))"
   ]
  },
  {
   "cell_type": "markdown",
   "id": "62a40cec",
   "metadata": {},
   "source": [
    "Unit areas, as expected :-)"
   ]
  },
  {
   "cell_type": "markdown",
   "id": "c0ea4dbb",
   "metadata": {},
   "source": [
    "#### ii) Integrating the sampled data using `simpson`."
   ]
  },
  {
   "cell_type": "code",
   "execution_count": 58,
   "id": "9eb2a6c6",
   "metadata": {},
   "outputs": [],
   "source": [
    "from scipy.integrate import simps\n",
    "#import scipy.integrate as sp\n",
    "#from scipy import integrate\n",
    "#from scipy.integrate import simpson"
   ]
  },
  {
   "cell_type": "code",
   "execution_count": 59,
   "id": "08101633",
   "metadata": {},
   "outputs": [
    {
     "data": {
      "text/plain": [
       "1.0"
      ]
     },
     "execution_count": 59,
     "metadata": {},
     "output_type": "execute_result"
    }
   ],
   "source": [
    "simps(y_gauss, w) # note y values first!"
   ]
  },
  {
   "cell_type": "code",
   "execution_count": 60,
   "id": "509bb607",
   "metadata": {},
   "outputs": [
    {
     "data": {
      "text/plain": [
       "0.936352657649891"
      ]
     },
     "execution_count": 60,
     "metadata": {},
     "output_type": "execute_result"
    }
   ],
   "source": [
    "simps(y_lorentz, w) # note y values first!"
   ]
  },
  {
   "cell_type": "markdown",
   "id": "c8068a2f",
   "metadata": {},
   "source": [
    "Note that since the lorentzian falls to zero more slowly, we would need to use a larger integration range to ge a more accurate integral. \n",
    "\n",
    "But moving on....\n",
    "\n"
   ]
  },
  {
   "cell_type": "markdown",
   "id": "1676a87e",
   "metadata": {},
   "source": [
    "## 1.2 Voigt profile\n",
    "In this part, you will simulate the combination of homogeneous and inhomogeneous broadening mechanisms and compare the result to the Voigt profile formula.\n"
   ]
  },
  {
   "cell_type": "markdown",
   "id": "d6d469e0",
   "metadata": {},
   "source": [
    "**a)**\tWrite a function that returns the width of a Voigt profile, as given by the empirical formula in the lecture notes."
   ]
  },
  {
   "cell_type": "code",
   "execution_count": 61,
   "id": "5317a9f5",
   "metadata": {},
   "outputs": [],
   "source": [
    "def voigt_fwhm_empirical(dw_l, dw_g):\n",
    "    \"\"\" \n",
    "    Returns FWHM of Voigt profile.\n",
    "    dw_l: lorentzian FWHM\n",
    "    dw_g: gaussian FWHM\n",
    "    \"\"\"\n",
    "    return 0.5*dw_l + np.sqrt(0.2*dw_l**2 + dw_g**2)"
   ]
  },
  {
   "cell_type": "markdown",
   "id": "412512c6",
   "metadata": {},
   "source": [
    "**b)**\tCalculate the Voigt profile as the convolution of the previous gaussian and Lorentzian profiles using `convolve` from `scipy.signal`. Use the option `mode='same'` with `convolve` to ensure the convolution is the same size as the inputs. Plot all three profiles on the same axes and record your observations. Don't worry if the peak of the convolution is not aligned with the peaks of the other pulses - this is a quirk of the way convolve returns the data. In reality, the peaks should coincide."
   ]
  },
  {
   "cell_type": "code",
   "execution_count": 62,
   "id": "a4c4df51",
   "metadata": {},
   "outputs": [],
   "source": [
    "from scipy.signal import convolve"
   ]
  },
  {
   "cell_type": "code",
   "execution_count": 63,
   "id": "0a146369",
   "metadata": {},
   "outputs": [],
   "source": [
    "y_voigt = convolve(y_gauss, y_lorentz, mode=\"same\")"
   ]
  },
  {
   "cell_type": "code",
   "execution_count": 64,
   "id": "e58a81bc",
   "metadata": {},
   "outputs": [],
   "source": [
    "# normalise\n",
    "y_voigt /= np.max(y_voigt)\n"
   ]
  },
  {
   "cell_type": "code",
   "execution_count": 34,
   "id": "2badb8f3",
   "metadata": {},
   "outputs": [
    {
     "data": {
      "image/png": "[encoded data removed]",
      "text/plain": [
       "<Figure size 432x288 with 1 Axes>"
      ]
     },
     "metadata": {
      "needs_background": "light"
     },
     "output_type": "display_data"
    }
   ],
   "source": [
    "plt.plot(w, y_gauss, label = 'gaussian')\n",
    "plt.plot(w, y_lorentz, label = 'lorentzian')\n",
    "plt.plot(w, y_voigt, label='voigt')\n",
    "plt.legend()\n",
    "plt.show()"
   ]
  },
  {
   "cell_type": "markdown",
   "id": "a5d08384",
   "metadata": {},
   "source": [
    "### Some observations\n",
    "The Voigt profile is wider than either of the component profiles.\n",
    "\n",
    "If one of the component profiles is much narrower than the other, the width of the convolution will be just a bit bigger than the width of the wider profile. \n",
    "\n",
    "You can test this by calculating some more convolutions - this is also evident from the empirical formula."
   ]
  },
  {
   "cell_type": "markdown",
   "id": "b282a562",
   "metadata": {},
   "source": [
    "**c)** Use your get_width function to check the empirial formula for the FWHM of the Voigt profile."
   ]
  },
  {
   "cell_type": "code",
   "execution_count": 65,
   "id": "36656bcf",
   "metadata": {},
   "outputs": [],
   "source": [
    "empirical_fwhm = voigt_fwhm_empirical(dw, dw) # recall that dw was the width of both the gaussian and lorentzian profiles"
   ]
  },
  {
   "cell_type": "code",
   "execution_count": 66,
   "id": "dc8d5c0f",
   "metadata": {},
   "outputs": [],
   "source": [
    "actual_fwhm = get_width(w, y_voigt)"
   ]
  },
  {
   "cell_type": "code",
   "execution_count": 67,
   "id": "32bf57b8",
   "metadata": {},
   "outputs": [
    {
     "name": "stdout",
     "output_type": "stream",
     "text": [
      "empirical_fwhm=0.798 rad/fs, actual_fwhm=0.811 rad/fs\n"
     ]
    }
   ],
   "source": [
    "# This is a nice f-string trick for printing variable names and their values by puting an equal sign after the var name.\n",
    "# You might might need a recent version of python for this\n",
    "\n",
    "print(f\"{empirical_fwhm=:.3f} rad/fs, {actual_fwhm=:.3f} rad/fs\") "
   ]
  },
  {
   "cell_type": "code",
   "execution_count": 68,
   "id": "da20ea45",
   "metadata": {},
   "outputs": [
    {
     "name": "stdout",
     "output_type": "stream",
     "text": [
      "percentage error = -1.61%\n"
     ]
    }
   ],
   "source": [
    "print(f\"percentage error = {100*(empirical_fwhm-actual_fwhm)/actual_fwhm:.2f}%\")"
   ]
  },
  {
   "cell_type": "markdown",
   "id": "86b9eff2",
   "metadata": {},
   "source": [
    "Not bad!"
   ]
  },
  {
   "cell_type": "markdown",
   "id": "d279fa67",
   "metadata": {},
   "source": [
    "### Extension"
   ]
  },
  {
   "cell_type": "markdown",
   "id": "86c5d558",
   "metadata": {},
   "source": [
    "**d)**\tCalculate a large number of convolutions (~100) of Gaussians and Lorentzians distributions of random widths in the range 0.1 - 2 rad/fs. Carry out a linear regression analysis of the Voigt empirical FWHMs vs the actual convolution widths using the `linregress` module from `scipy.stats` to test the validity of the empirical formula. Record your observations."
   ]
  },
  {
   "cell_type": "code",
   "execution_count": 69,
   "id": "391352a7",
   "metadata": {},
   "outputs": [],
   "source": [
    "from random import uniform"
   ]
  },
  {
   "cell_type": "code",
   "execution_count": 70,
   "id": "9576accf",
   "metadata": {},
   "outputs": [],
   "source": [
    "# Generate some random widths\n",
    "dw_l_vals = [uniform(0.1, 2) for _ in range(100)]\n",
    "dw_g_vals = [uniform(0.1, 2) for _ in range(100)]\n"
   ]
  },
  {
   "cell_type": "code",
   "execution_count": 71,
   "id": "518972bc",
   "metadata": {},
   "outputs": [],
   "source": [
    "# calculate actual (from convolution width) and empirical-formula widths for the Voigt\n",
    "actual = []\n",
    "formula = []\n",
    "for dw_l, dw_g in zip(dw_l_vals, dw_g_vals):\n",
    "    y_lorentz = lorentzian(w, w0, dw_l)\n",
    "    y_gauss = gaussian(w, w0, dw_g)\n",
    "    y_voigt = convolve(y_gauss, y_lorentz, mode='same')\n",
    "    actual.append(get_width(w, y_voigt))\n",
    "    formula.append(voigt_fwhm_empirical(dw_l, dw_g))"
   ]
  },
  {
   "cell_type": "markdown",
   "id": "fd10a008",
   "metadata": {},
   "source": [
    "Convert data to `np arrays`"
   ]
  },
  {
   "cell_type": "code",
   "execution_count": 72,
   "id": "d60a5155",
   "metadata": {},
   "outputs": [],
   "source": [
    "actual = np.array(actual)\n",
    "formula = np.array(formula)"
   ]
  },
  {
   "cell_type": "markdown",
   "id": "ca32c8ec",
   "metadata": {},
   "source": [
    "Linear regression:"
   ]
  },
  {
   "cell_type": "code",
   "execution_count": 73,
   "id": "e0619456",
   "metadata": {},
   "outputs": [
    {
     "name": "stdout",
     "output_type": "stream",
     "text": [
      "R-squared: 0.999\n",
      "slope of linear fit: 0.992\n",
      "intercept of linear fit: -0.021\n"
     ]
    }
   ],
   "source": [
    "from scipy.stats import linregress\n",
    "res = linregress(actual, formula)\n",
    "r = res.rvalue\n",
    "slope = res.slope\n",
    "intercept = res.intercept\n",
    "print(f\"R-squared: {r**2:.3f}\")\n",
    "print(f\"slope of linear fit: {slope:.3f}\")\n",
    "print(f\"intercept of linear fit: {intercept:.3f}\")\n"
   ]
  },
  {
   "cell_type": "markdown",
   "id": "d4f7fb20",
   "metadata": {},
   "source": [
    "Plot scatter plot of data and linear fit"
   ]
  },
  {
   "cell_type": "code",
   "execution_count": 75,
   "id": "6369ad51",
   "metadata": {},
   "outputs": [
    {
     "data": {
      "image/png": "[encoded data removed]",
      "text/plain": [
       "<Figure size 432x288 with 1 Axes>"
      ]
     },
     "metadata": {
      "needs_background": "light"
     },
     "output_type": "display_data"
    }
   ],
   "source": [
    "plt.title('Voigt profile empirical FWHM vs actual FWHM')\n",
    "plt.plot(actual, formula, 'o', label='data')\n",
    "plt.plot(actual, actual*slope + intercept, 'r', label='fitted line')\n",
    "plt.xlabel('Actual fwhm (rad/fs)')\n",
    "plt.ylabel('Empirical fwhm (rad/fs')\n",
    "plt.legend()\n",
    "plt.show()"
   ]
  },
  {
   "cell_type": "markdown",
   "id": "b30cf582",
   "metadata": {},
   "source": [
    "The empirical formula appears to be pretty darn good!"
   ]
  }
 ],
 "metadata": {
  "kernelspec": {
   "display_name": "Python 3 (ipykernel)",
   "language": "python",
   "name": "python3"
  },
  "language_info": {
   "codemirror_mode": {
    "name": "ipython",
    "version": 3
   },
   "file_extension": ".py",
   "mimetype": "text/x-python",
   "name": "python",
   "nbconvert_exporter": "python",
   "pygments_lexer": "ipython3",
   "version": "3.9.0"
  }
 },
 "nbformat": 4,
 "nbformat_minor": 5
}
